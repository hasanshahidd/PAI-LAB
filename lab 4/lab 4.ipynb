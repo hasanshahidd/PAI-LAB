{
 "cells": [
  {
   "cell_type": "code",
   "execution_count": 1,
   "metadata": {},
   "outputs": [
    {
     "name": "stdout",
     "output_type": "stream",
     "text": [
      "Solution 1:\n",
      ".Q..\n",
      "...Q\n",
      "Q...\n",
      "..Q.\n",
      "\n",
      "Solution 2:\n",
      "..Q.\n",
      "Q...\n",
      "...Q\n",
      ".Q..\n",
      "\n"
     ]
    }
   ],
   "source": [
    "def solve_problem(n):\n",
    "    def is_safe(board, row, col):\n",
    "        for i in range(row):\n",
    "            if board[i] == col or \\\n",
    "                board[i] - i == col - row or \\\n",
    "                board[i] + i == col + row:\n",
    "                return False\n",
    "        return True\n",
    "    def place_queens(board, row):\n",
    "        if row == n:\n",
    "            result.append(board[:])\n",
    "            return\n",
    "        for col in range(n):\n",
    "            if is_safe(board, row, col):\n",
    "                board[row] = col\n",
    "                place_queens(board, row + 1)\n",
    "    result = []\n",
    "    place_queens([-1]*n, 0)\n",
    "    return [[\".\"*i + \"Q\" + \".\"*(n-i-1) for i in sol] for sol in result]\n",
    "n = 4\n",
    "solutions = solve_problem(n)\n",
    "for i, solution in enumerate(solutions):\n",
    "    print(f\"Solution {i+1}:\")\n",
    "    for row in solution:\n",
    "        print(row)\n",
    "    print()"
   ]
  }
 ],
 "metadata": {
  "kernelspec": {
   "display_name": "Python 3",
   "language": "python",
   "name": "python3"
  },
  "language_info": {
   "codemirror_mode": {
    "name": "ipython",
    "version": 3
   },
   "file_extension": ".py",
   "mimetype": "text/x-python",
   "name": "python",
   "nbconvert_exporter": "python",
   "pygments_lexer": "ipython3",
   "version": "3.10.0"
  }
 },
 "nbformat": 4,
 "nbformat_minor": 2
}
