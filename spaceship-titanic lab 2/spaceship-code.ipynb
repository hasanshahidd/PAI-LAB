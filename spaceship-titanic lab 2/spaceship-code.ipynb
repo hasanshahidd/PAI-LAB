{
 "cells": [
  {
   "cell_type": "code",
   "execution_count": 32,
   "metadata": {
    "execution": {
     "iopub.execute_input": "2025-01-21T01:21:02.288696Z",
     "iopub.status.busy": "2025-01-21T01:21:02.288339Z",
     "iopub.status.idle": "2025-01-21T01:21:20.010198Z",
     "shell.execute_reply": "2025-01-21T01:21:20.008913Z",
     "shell.execute_reply.started": "2025-01-21T01:21:02.288667Z"
    },
    "trusted": true
   },
   "outputs": [],
   "source": [
    "import numpy as np\n",
    "import pandas as pd\n",
    "import tensorflow as tf\n",
    "from tensorflow.keras import Sequential\n",
    "from tensorflow.keras.layers import Dense,InputLayer\n",
    "from tensorflow.keras.losses import BinaryCrossentropy\n",
    "from tensorflow.keras.optimizers import Adam\n",
    "from sklearn.model_selection import train_test_split\n",
    "from sklearn.preprocessing import StandardScaler,PolynomialFeatures\n",
    "import matplotlib.pyplot as plt\n",
    "from sklearn.metrics import f1_score"
   ]
  },
  {
   "cell_type": "code",
   "execution_count": null,
   "metadata": {},
   "outputs": [
    {
     "name": "stdout",
     "output_type": "stream",
     "text": [
      "  PassengerId HomePlanet CryoSleep  Cabin  Destination   Age    VIP  \\\n",
      "0     0001_01     Europa     False  B/0/P  TRAPPIST-1e  39.0  False   \n",
      "1     0002_01      Earth     False  F/0/S  TRAPPIST-1e  24.0  False   \n",
      "2     0003_01     Europa     False  A/0/S  TRAPPIST-1e  58.0   True   \n",
      "3     0003_02     Europa     False  A/0/S  TRAPPIST-1e  33.0  False   \n",
      "4     0004_01      Earth     False  F/1/S  TRAPPIST-1e  16.0  False   \n",
      "\n",
      "   RoomService  FoodCourt  ShoppingMall     Spa  VRDeck               Name  \\\n",
      "0          0.0        0.0           0.0     0.0     0.0    Maham Ofracculy   \n",
      "1        109.0        9.0          25.0   549.0    44.0       Juanna Vines   \n",
      "2         43.0     3576.0           0.0  6715.0    49.0      Altark Susent   \n",
      "3          0.0     1283.0         371.0  3329.0   193.0       Solam Susent   \n",
      "4        303.0       70.0         151.0   565.0     2.0  Willy Santantines   \n",
      "\n",
      "   Transported  \n",
      "0        False  \n",
      "1         True  \n",
      "2        False  \n",
      "3        False  \n",
      "4         True  \n",
      "Index(['PassengerId', 'HomePlanet', 'CryoSleep', 'Cabin', 'Destination', 'Age',\n",
      "       'VIP', 'RoomService', 'FoodCourt', 'ShoppingMall', 'Spa', 'VRDeck',\n",
      "       'Name', 'Transported'],\n",
      "      dtype='object')\n"
     ]
    }
   ],
   "source": [
    "\n",
    "df = pd.read_csv(r\"C:\\Users\\Admin\\Desktop\\spaceship-titanic\\train.csv\")\n",
    "features= df.columns\n",
    "corrupt_features=[\"Age\",\"RoomService\",\"ShoppingMall\",\"FoodCourt\",\"Spa\",\"VRDeck\"]\n",
    "print(df.head())\n",
    "print(features)"
   ]
  },
  {
   "cell_type": "code",
   "execution_count": 34,
   "metadata": {},
   "outputs": [
    {
     "name": "stdout",
     "output_type": "stream",
     "text": [
      "Name has 8474 unique values\n",
      "\n",
      "PassengerId has 8693 unique values\n",
      "\n",
      "HomePlanet has 4 unique values\n",
      "\n",
      "CryoSleep has 3 unique values\n",
      "\n",
      "Cabin has 6561 unique values\n",
      "\n",
      "Destination has 4 unique values\n",
      "\n",
      "VIP has 3 unique values\n",
      "\n",
      "Transported has 2 unique values\n",
      "\n"
     ]
    }
   ],
   "source": [
    "\n",
    "CATEGORICAL= [\"Name\",\"PassengerId\",\"HomePlanet\",\"CryoSleep\",\"Cabin\",\"Destination\",\"VIP\",\"Transported\"]\n",
    "for feature in CATEGORICAL:\n",
    "    unique_values= list(df[feature].unique())\n",
    "    print(f\"{feature} has {len(unique_values)} unique values\\n\")\n",
    "    mapped= []\n",
    "    for value in df[feature]:\n",
    "        mapped.append(unique_values.index(value))\n",
    "    df[feature]= mapped"
   ]
  },
  {
   "cell_type": "code",
   "execution_count": 35,
   "metadata": {},
   "outputs": [
    {
     "name": "stdout",
     "output_type": "stream",
     "text": [
      "PassengerId has 0\n",
      "HomePlanet has 0\n",
      "CryoSleep has 0\n",
      "Cabin has 0\n",
      "Destination has 0\n",
      "Age has 0\n",
      "VIP has 0\n",
      "RoomService has 0\n",
      "FoodCourt has 0\n",
      "ShoppingMall has 0\n",
      "Spa has 0\n",
      "VRDeck has 0\n",
      "Name has 0\n",
      "Transported has 0\n",
      "After Integer Encoding...\n",
      "   PassengerId  HomePlanet  CryoSleep  Cabin  Destination   Age  VIP  \\\n",
      "0            0           0          0      0            0  39.0    0   \n",
      "1            1           1          0      1            0  24.0    0   \n",
      "2            2           0          0      2            0  58.0    1   \n",
      "3            3           0          0      2            0  33.0    0   \n",
      "4            4           1          0      3            0  16.0    0   \n",
      "\n",
      "   RoomService  FoodCourt  ShoppingMall     Spa  VRDeck  Name  Transported  \n",
      "0          0.0        0.0           0.0     0.0     0.0     0            0  \n",
      "1        109.0        9.0          25.0   549.0    44.0     1            1  \n",
      "2         43.0     3576.0           0.0  6715.0    49.0     2            0  \n",
      "3          0.0     1283.0         371.0  3329.0   193.0     3            0  \n",
      "4        303.0       70.0         151.0   565.0     2.0     4            1  \n",
      "X_train.shape:(6954, 13), y_train.shape:(6954,)\n"
     ]
    },
    {
     "name": "stderr",
     "output_type": "stream",
     "text": [
      "C:\\Users\\Admin\\AppData\\Local\\Temp\\ipykernel_9356\\2172835956.py:2: FutureWarning: A value is trying to be set on a copy of a DataFrame or Series through chained assignment using an inplace method.\n",
      "The behavior will change in pandas 3.0. This inplace method will never work because the intermediate object on which we are setting values always behaves as a copy.\n",
      "\n",
      "For example, when doing 'df[col].method(value, inplace=True)', try using 'df.method({col: value}, inplace=True)' or df[col] = df[col].method(value) instead, to perform the operation inplace on the original object.\n",
      "\n",
      "\n",
      "  df[feature].fillna(df[feature].median(skipna=True),inplace=True)\n",
      "C:\\Users\\Admin\\AppData\\Local\\Temp\\ipykernel_9356\\2172835956.py:2: FutureWarning: A value is trying to be set on a copy of a DataFrame or Series through chained assignment using an inplace method.\n",
      "The behavior will change in pandas 3.0. This inplace method will never work because the intermediate object on which we are setting values always behaves as a copy.\n",
      "\n",
      "For example, when doing 'df[col].method(value, inplace=True)', try using 'df.method({col: value}, inplace=True)' or df[col] = df[col].method(value) instead, to perform the operation inplace on the original object.\n",
      "\n",
      "\n",
      "  df[feature].fillna(df[feature].median(skipna=True),inplace=True)\n",
      "C:\\Users\\Admin\\AppData\\Local\\Temp\\ipykernel_9356\\2172835956.py:2: FutureWarning: A value is trying to be set on a copy of a DataFrame or Series through chained assignment using an inplace method.\n",
      "The behavior will change in pandas 3.0. This inplace method will never work because the intermediate object on which we are setting values always behaves as a copy.\n",
      "\n",
      "For example, when doing 'df[col].method(value, inplace=True)', try using 'df.method({col: value}, inplace=True)' or df[col] = df[col].method(value) instead, to perform the operation inplace on the original object.\n",
      "\n",
      "\n",
      "  df[feature].fillna(df[feature].median(skipna=True),inplace=True)\n",
      "C:\\Users\\Admin\\AppData\\Local\\Temp\\ipykernel_9356\\2172835956.py:2: FutureWarning: A value is trying to be set on a copy of a DataFrame or Series through chained assignment using an inplace method.\n",
      "The behavior will change in pandas 3.0. This inplace method will never work because the intermediate object on which we are setting values always behaves as a copy.\n",
      "\n",
      "For example, when doing 'df[col].method(value, inplace=True)', try using 'df.method({col: value}, inplace=True)' or df[col] = df[col].method(value) instead, to perform the operation inplace on the original object.\n",
      "\n",
      "\n",
      "  df[feature].fillna(df[feature].median(skipna=True),inplace=True)\n",
      "C:\\Users\\Admin\\AppData\\Local\\Temp\\ipykernel_9356\\2172835956.py:2: FutureWarning: A value is trying to be set on a copy of a DataFrame or Series through chained assignment using an inplace method.\n",
      "The behavior will change in pandas 3.0. This inplace method will never work because the intermediate object on which we are setting values always behaves as a copy.\n",
      "\n",
      "For example, when doing 'df[col].method(value, inplace=True)', try using 'df.method({col: value}, inplace=True)' or df[col] = df[col].method(value) instead, to perform the operation inplace on the original object.\n",
      "\n",
      "\n",
      "  df[feature].fillna(df[feature].median(skipna=True),inplace=True)\n",
      "C:\\Users\\Admin\\AppData\\Local\\Temp\\ipykernel_9356\\2172835956.py:2: FutureWarning: A value is trying to be set on a copy of a DataFrame or Series through chained assignment using an inplace method.\n",
      "The behavior will change in pandas 3.0. This inplace method will never work because the intermediate object on which we are setting values always behaves as a copy.\n",
      "\n",
      "For example, when doing 'df[col].method(value, inplace=True)', try using 'df.method({col: value}, inplace=True)' or df[col] = df[col].method(value) instead, to perform the operation inplace on the original object.\n",
      "\n",
      "\n",
      "  df[feature].fillna(df[feature].median(skipna=True),inplace=True)\n"
     ]
    }
   ],
   "source": [
    "\n",
    "for feature in corrupt_features:\n",
    "    df[feature].fillna(df[feature].median(skipna=True),inplace=True)\n",
    "for feature in df.columns:\n",
    "    print(f\"{feature} has {df[feature].isnull().sum()}\")\n",
    "print(f\"After Integer Encoding...\\n{df.head()}\")\n",
    "dlabels= df.pop(\"Transported\")\n",
    "X_train,X_test,y_train,y_test= train_test_split(df,dlabels,test_size= 0.20)\n",
    "print(f\"X_train.shape:{X_train.shape}, y_train.shape:{y_train.shape}\")"
   ]
  },
  {
   "cell_type": "code",
   "execution_count": 36,
   "metadata": {
    "execution": {
     "iopub.execute_input": "2025-01-21T01:21:20.011792Z",
     "iopub.status.busy": "2025-01-21T01:21:20.011407Z",
     "iopub.status.idle": "2025-01-21T01:21:20.041297Z",
     "shell.execute_reply": "2025-01-21T01:21:20.039893Z",
     "shell.execute_reply.started": "2025-01-21T01:21:20.01175Z"
    },
    "trusted": true
   },
   "outputs": [
    {
     "name": "stdout",
     "output_type": "stream",
     "text": [
      "(6954, 13)\n",
      "After scaling,Here are the ranges of values for all the features...[ 3.46892331  4.07933462  3.71049844  3.39472032  3.37846814  5.49623916\n",
      "  5.89536947 22.11360936 18.60361606 40.98542103 20.74033984 20.52471694\n",
      "  3.39735547]\n"
     ]
    }
   ],
   "source": [
    "\n",
    "X_train= np.array(X_train)\n",
    "X_test= np.array(X_test)\n",
    "scaler= StandardScaler()\n",
    "X_train= scaler.fit_transform(X_train)\n",
    "X_test= scaler.transform(X_test)\n",
    "print(X_train.shape)\n",
    "print(f\"After scaling,Here are the ranges of values for all the features...{np.ptp(X_train,axis= 0)}\")\n"
   ]
  },
  {
   "cell_type": "code",
   "execution_count": 37,
   "metadata": {
    "execution": {
     "iopub.execute_input": "2025-01-21T01:21:20.044424Z",
     "iopub.status.busy": "2025-01-21T01:21:20.044079Z",
     "iopub.status.idle": "2025-01-21T01:21:20.149157Z",
     "shell.execute_reply": "2025-01-21T01:21:20.148151Z",
     "shell.execute_reply.started": "2025-01-21T01:21:20.044396Z"
    },
    "trusted": true
   },
   "outputs": [
    {
     "name": "stderr",
     "output_type": "stream",
     "text": [
      "c:\\Users\\Admin\\AppData\\Local\\Programs\\Python\\Python310\\lib\\site-packages\\keras\\src\\layers\\core\\input_layer.py:26: UserWarning: Argument `input_shape` is deprecated. Use `shape` instead.\n",
      "  warnings.warn(\n"
     ]
    },
    {
     "data": {
      "text/html": [
       "<pre style=\"white-space:pre;overflow-x:auto;line-height:normal;font-family:Menlo,'DejaVu Sans Mono',consolas,'Courier New',monospace\"><span style=\"font-weight: bold\">Model: \"sequential_1\"</span>\n",
       "</pre>\n"
      ],
      "text/plain": [
       "\u001b[1mModel: \"sequential_1\"\u001b[0m\n"
      ]
     },
     "metadata": {},
     "output_type": "display_data"
    },
    {
     "data": {
      "text/html": [
       "<pre style=\"white-space:pre;overflow-x:auto;line-height:normal;font-family:Menlo,'DejaVu Sans Mono',consolas,'Courier New',monospace\">┏━━━━━━━━━━━━━━━━━━━━━━━━━━━━━━━━━┳━━━━━━━━━━━━━━━━━━━━━━━━┳━━━━━━━━━━━━━━━┓\n",
       "┃<span style=\"font-weight: bold\"> Layer (type)                    </span>┃<span style=\"font-weight: bold\"> Output Shape           </span>┃<span style=\"font-weight: bold\">       Param # </span>┃\n",
       "┡━━━━━━━━━━━━━━━━━━━━━━━━━━━━━━━━━╇━━━━━━━━━━━━━━━━━━━━━━━━╇━━━━━━━━━━━━━━━┩\n",
       "│ dense_3 (<span style=\"color: #0087ff; text-decoration-color: #0087ff\">Dense</span>)                 │ (<span style=\"color: #00d7ff; text-decoration-color: #00d7ff\">None</span>, <span style=\"color: #00af00; text-decoration-color: #00af00\">20</span>)             │           <span style=\"color: #00af00; text-decoration-color: #00af00\">280</span> │\n",
       "├─────────────────────────────────┼────────────────────────┼───────────────┤\n",
       "│ dense_4 (<span style=\"color: #0087ff; text-decoration-color: #0087ff\">Dense</span>)                 │ (<span style=\"color: #00d7ff; text-decoration-color: #00d7ff\">None</span>, <span style=\"color: #00af00; text-decoration-color: #00af00\">10</span>)             │           <span style=\"color: #00af00; text-decoration-color: #00af00\">210</span> │\n",
       "├─────────────────────────────────┼────────────────────────┼───────────────┤\n",
       "│ dense_5 (<span style=\"color: #0087ff; text-decoration-color: #0087ff\">Dense</span>)                 │ (<span style=\"color: #00d7ff; text-decoration-color: #00d7ff\">None</span>, <span style=\"color: #00af00; text-decoration-color: #00af00\">1</span>)              │            <span style=\"color: #00af00; text-decoration-color: #00af00\">11</span> │\n",
       "└─────────────────────────────────┴────────────────────────┴───────────────┘\n",
       "</pre>\n"
      ],
      "text/plain": [
       "┏━━━━━━━━━━━━━━━━━━━━━━━━━━━━━━━━━┳━━━━━━━━━━━━━━━━━━━━━━━━┳━━━━━━━━━━━━━━━┓\n",
       "┃\u001b[1m \u001b[0m\u001b[1mLayer (type)                   \u001b[0m\u001b[1m \u001b[0m┃\u001b[1m \u001b[0m\u001b[1mOutput Shape          \u001b[0m\u001b[1m \u001b[0m┃\u001b[1m \u001b[0m\u001b[1m      Param #\u001b[0m\u001b[1m \u001b[0m┃\n",
       "┡━━━━━━━━━━━━━━━━━━━━━━━━━━━━━━━━━╇━━━━━━━━━━━━━━━━━━━━━━━━╇━━━━━━━━━━━━━━━┩\n",
       "│ dense_3 (\u001b[38;5;33mDense\u001b[0m)                 │ (\u001b[38;5;45mNone\u001b[0m, \u001b[38;5;34m20\u001b[0m)             │           \u001b[38;5;34m280\u001b[0m │\n",
       "├─────────────────────────────────┼────────────────────────┼───────────────┤\n",
       "│ dense_4 (\u001b[38;5;33mDense\u001b[0m)                 │ (\u001b[38;5;45mNone\u001b[0m, \u001b[38;5;34m10\u001b[0m)             │           \u001b[38;5;34m210\u001b[0m │\n",
       "├─────────────────────────────────┼────────────────────────┼───────────────┤\n",
       "│ dense_5 (\u001b[38;5;33mDense\u001b[0m)                 │ (\u001b[38;5;45mNone\u001b[0m, \u001b[38;5;34m1\u001b[0m)              │            \u001b[38;5;34m11\u001b[0m │\n",
       "└─────────────────────────────────┴────────────────────────┴───────────────┘\n"
      ]
     },
     "metadata": {},
     "output_type": "display_data"
    },
    {
     "data": {
      "text/html": [
       "<pre style=\"white-space:pre;overflow-x:auto;line-height:normal;font-family:Menlo,'DejaVu Sans Mono',consolas,'Courier New',monospace\"><span style=\"font-weight: bold\"> Total params: </span><span style=\"color: #00af00; text-decoration-color: #00af00\">501</span> (1.96 KB)\n",
       "</pre>\n"
      ],
      "text/plain": [
       "\u001b[1m Total params: \u001b[0m\u001b[38;5;34m501\u001b[0m (1.96 KB)\n"
      ]
     },
     "metadata": {},
     "output_type": "display_data"
    },
    {
     "data": {
      "text/html": [
       "<pre style=\"white-space:pre;overflow-x:auto;line-height:normal;font-family:Menlo,'DejaVu Sans Mono',consolas,'Courier New',monospace\"><span style=\"font-weight: bold\"> Trainable params: </span><span style=\"color: #00af00; text-decoration-color: #00af00\">501</span> (1.96 KB)\n",
       "</pre>\n"
      ],
      "text/plain": [
       "\u001b[1m Trainable params: \u001b[0m\u001b[38;5;34m501\u001b[0m (1.96 KB)\n"
      ]
     },
     "metadata": {},
     "output_type": "display_data"
    },
    {
     "data": {
      "text/html": [
       "<pre style=\"white-space:pre;overflow-x:auto;line-height:normal;font-family:Menlo,'DejaVu Sans Mono',consolas,'Courier New',monospace\"><span style=\"font-weight: bold\"> Non-trainable params: </span><span style=\"color: #00af00; text-decoration-color: #00af00\">0</span> (0.00 B)\n",
       "</pre>\n"
      ],
      "text/plain": [
       "\u001b[1m Non-trainable params: \u001b[0m\u001b[38;5;34m0\u001b[0m (0.00 B)\n"
      ]
     },
     "metadata": {},
     "output_type": "display_data"
    },
    {
     "name": "stdout",
     "output_type": "stream",
     "text": [
      "None\n"
     ]
    }
   ],
   "source": [
    "\n",
    "model= Sequential([\n",
    "    InputLayer(input_shape=(13,)),\n",
    "    Dense(20,activation=\"linear\"),\n",
    "    Dense(10,activation=\"linear\"),\n",
    "    Dense(1,activation=\"sigmoid\")\n",
    "    \n",
    "])\n",
    "print(model.summary())"
   ]
  },
  {
   "cell_type": "code",
   "execution_count": 38,
   "metadata": {
    "execution": {
     "iopub.execute_input": "2025-01-21T01:21:20.150571Z",
     "iopub.status.busy": "2025-01-21T01:21:20.15026Z",
     "iopub.status.idle": "2025-01-21T01:21:20.166048Z",
     "shell.execute_reply": "2025-01-21T01:21:20.164568Z",
     "shell.execute_reply.started": "2025-01-21T01:21:20.150546Z"
    },
    "trusted": true
   },
   "outputs": [],
   "source": [
    "\n",
    "model.compile(loss= BinaryCrossentropy,optimizer= Adam(0.0001),metrics=[\"accuracy\"])\n"
   ]
  },
  {
   "cell_type": "code",
   "execution_count": 39,
   "metadata": {
    "execution": {
     "iopub.execute_input": "2025-01-21T01:21:20.167872Z",
     "iopub.status.busy": "2025-01-21T01:21:20.16746Z",
     "iopub.status.idle": "2025-01-21T01:22:33.130377Z",
     "shell.execute_reply": "2025-01-21T01:22:33.129169Z",
     "shell.execute_reply.started": "2025-01-21T01:21:20.167831Z"
    },
    "trusted": true
   },
   "outputs": [
    {
     "name": "stdout",
     "output_type": "stream",
     "text": [
      "Epoch 1/200\n",
      "\u001b[1m153/153\u001b[0m \u001b[32m━━━━━━━━━━━━━━━━━━━━\u001b[0m\u001b[37m\u001b[0m \u001b[1m1s\u001b[0m 3ms/step - accuracy: 0.5501 - loss: 0.7993 - val_accuracy: 0.6061 - val_loss: 0.6866\n",
      "Epoch 2/200\n",
      "\u001b[1m153/153\u001b[0m \u001b[32m━━━━━━━━━━━━━━━━━━━━\u001b[0m\u001b[37m\u001b[0m \u001b[1m0s\u001b[0m 2ms/step - accuracy: 0.6173 - loss: 0.6634 - val_accuracy: 0.6814 - val_loss: 0.6053\n",
      "Epoch 3/200\n",
      "\u001b[1m153/153\u001b[0m \u001b[32m━━━━━━━━━━━━━━━━━━━━\u001b[0m\u001b[37m\u001b[0m \u001b[1m0s\u001b[0m 2ms/step - accuracy: 0.7004 - loss: 0.5946 - val_accuracy: 0.7350 - val_loss: 0.5661\n",
      "Epoch 4/200\n",
      "\u001b[1m153/153\u001b[0m \u001b[32m━━━━━━━━━━━━━━━━━━━━\u001b[0m\u001b[37m\u001b[0m \u001b[1m0s\u001b[0m 2ms/step - accuracy: 0.7481 - loss: 0.5542 - val_accuracy: 0.7456 - val_loss: 0.5481\n",
      "Epoch 5/200\n",
      "\u001b[1m153/153\u001b[0m \u001b[32m━━━━━━━━━━━━━━━━━━━━\u001b[0m\u001b[37m\u001b[0m \u001b[1m0s\u001b[0m 2ms/step - accuracy: 0.7555 - loss: 0.5427 - val_accuracy: 0.7518 - val_loss: 0.5375\n",
      "Epoch 6/200\n",
      "\u001b[1m153/153\u001b[0m \u001b[32m━━━━━━━━━━━━━━━━━━━━\u001b[0m\u001b[37m\u001b[0m \u001b[1m0s\u001b[0m 2ms/step - accuracy: 0.7614 - loss: 0.5293 - val_accuracy: 0.7542 - val_loss: 0.5302\n",
      "Epoch 7/200\n",
      "\u001b[1m153/153\u001b[0m \u001b[32m━━━━━━━━━━━━━━━━━━━━\u001b[0m\u001b[37m\u001b[0m \u001b[1m0s\u001b[0m 1ms/step - accuracy: 0.7574 - loss: 0.5272 - val_accuracy: 0.7537 - val_loss: 0.5249\n",
      "Epoch 8/200\n",
      "\u001b[1m153/153\u001b[0m \u001b[32m━━━━━━━━━━━━━━━━━━━━\u001b[0m\u001b[37m\u001b[0m \u001b[1m0s\u001b[0m 1ms/step - accuracy: 0.7672 - loss: 0.5157 - val_accuracy: 0.7571 - val_loss: 0.5203\n",
      "Epoch 9/200\n",
      "\u001b[1m153/153\u001b[0m \u001b[32m━━━━━━━━━━━━━━━━━━━━\u001b[0m\u001b[37m\u001b[0m \u001b[1m0s\u001b[0m 1ms/step - accuracy: 0.7663 - loss: 0.5133 - val_accuracy: 0.7566 - val_loss: 0.5169\n",
      "Epoch 10/200\n",
      "\u001b[1m153/153\u001b[0m \u001b[32m━━━━━━━━━━━━━━━━━━━━\u001b[0m\u001b[37m\u001b[0m \u001b[1m0s\u001b[0m 1ms/step - accuracy: 0.7747 - loss: 0.5092 - val_accuracy: 0.7575 - val_loss: 0.5139\n",
      "Epoch 11/200\n",
      "\u001b[1m153/153\u001b[0m \u001b[32m━━━━━━━━━━━━━━━━━━━━\u001b[0m\u001b[37m\u001b[0m \u001b[1m0s\u001b[0m 1ms/step - accuracy: 0.7786 - loss: 0.4977 - val_accuracy: 0.7595 - val_loss: 0.5116\n",
      "Epoch 12/200\n",
      "\u001b[1m153/153\u001b[0m \u001b[32m━━━━━━━━━━━━━━━━━━━━\u001b[0m\u001b[37m\u001b[0m \u001b[1m0s\u001b[0m 2ms/step - accuracy: 0.7783 - loss: 0.5016 - val_accuracy: 0.7580 - val_loss: 0.5095\n",
      "Epoch 13/200\n",
      "\u001b[1m153/153\u001b[0m \u001b[32m━━━━━━━━━━━━━━━━━━━━\u001b[0m\u001b[37m\u001b[0m \u001b[1m0s\u001b[0m 1ms/step - accuracy: 0.7695 - loss: 0.5043 - val_accuracy: 0.7599 - val_loss: 0.5073\n",
      "Epoch 14/200\n",
      "\u001b[1m153/153\u001b[0m \u001b[32m━━━━━━━━━━━━━━━━━━━━\u001b[0m\u001b[37m\u001b[0m \u001b[1m0s\u001b[0m 1ms/step - accuracy: 0.7789 - loss: 0.5022 - val_accuracy: 0.7623 - val_loss: 0.5057\n",
      "Epoch 15/200\n",
      "\u001b[1m153/153\u001b[0m \u001b[32m━━━━━━━━━━━━━━━━━━━━\u001b[0m\u001b[37m\u001b[0m \u001b[1m0s\u001b[0m 1ms/step - accuracy: 0.7819 - loss: 0.4950 - val_accuracy: 0.7619 - val_loss: 0.5043\n",
      "Epoch 16/200\n",
      "\u001b[1m153/153\u001b[0m \u001b[32m━━━━━━━━━━━━━━━━━━━━\u001b[0m\u001b[37m\u001b[0m \u001b[1m0s\u001b[0m 1ms/step - accuracy: 0.7906 - loss: 0.4867 - val_accuracy: 0.7657 - val_loss: 0.5030\n",
      "Epoch 17/200\n",
      "\u001b[1m153/153\u001b[0m \u001b[32m━━━━━━━━━━━━━━━━━━━━\u001b[0m\u001b[37m\u001b[0m \u001b[1m0s\u001b[0m 1ms/step - accuracy: 0.7967 - loss: 0.4803 - val_accuracy: 0.7652 - val_loss: 0.5021\n",
      "Epoch 18/200\n",
      "\u001b[1m153/153\u001b[0m \u001b[32m━━━━━━━━━━━━━━━━━━━━\u001b[0m\u001b[37m\u001b[0m \u001b[1m0s\u001b[0m 1ms/step - accuracy: 0.7804 - loss: 0.4940 - val_accuracy: 0.7667 - val_loss: 0.5011\n",
      "Epoch 19/200\n",
      "\u001b[1m153/153\u001b[0m \u001b[32m━━━━━━━━━━━━━━━━━━━━\u001b[0m\u001b[37m\u001b[0m \u001b[1m0s\u001b[0m 1ms/step - accuracy: 0.7903 - loss: 0.4878 - val_accuracy: 0.7681 - val_loss: 0.5001\n",
      "Epoch 20/200\n",
      "\u001b[1m153/153\u001b[0m \u001b[32m━━━━━━━━━━━━━━━━━━━━\u001b[0m\u001b[37m\u001b[0m \u001b[1m0s\u001b[0m 2ms/step - accuracy: 0.7841 - loss: 0.4877 - val_accuracy: 0.7681 - val_loss: 0.4995\n",
      "Epoch 21/200\n",
      "\u001b[1m153/153\u001b[0m \u001b[32m━━━━━━━━━━━━━━━━━━━━\u001b[0m\u001b[37m\u001b[0m \u001b[1m0s\u001b[0m 1ms/step - accuracy: 0.7782 - loss: 0.4905 - val_accuracy: 0.7686 - val_loss: 0.4987\n",
      "Epoch 22/200\n",
      "\u001b[1m153/153\u001b[0m \u001b[32m━━━━━━━━━━━━━━━━━━━━\u001b[0m\u001b[37m\u001b[0m \u001b[1m0s\u001b[0m 1ms/step - accuracy: 0.7788 - loss: 0.4975 - val_accuracy: 0.7690 - val_loss: 0.4980\n",
      "Epoch 23/200\n",
      "\u001b[1m153/153\u001b[0m \u001b[32m━━━━━━━━━━━━━━━━━━━━\u001b[0m\u001b[37m\u001b[0m \u001b[1m0s\u001b[0m 1ms/step - accuracy: 0.7867 - loss: 0.4836 - val_accuracy: 0.7667 - val_loss: 0.4978\n",
      "Epoch 24/200\n",
      "\u001b[1m153/153\u001b[0m \u001b[32m━━━━━━━━━━━━━━━━━━━━\u001b[0m\u001b[37m\u001b[0m \u001b[1m0s\u001b[0m 2ms/step - accuracy: 0.7866 - loss: 0.4865 - val_accuracy: 0.7705 - val_loss: 0.4971\n",
      "Epoch 25/200\n",
      "\u001b[1m153/153\u001b[0m \u001b[32m━━━━━━━━━━━━━━━━━━━━\u001b[0m\u001b[37m\u001b[0m \u001b[1m0s\u001b[0m 1ms/step - accuracy: 0.7873 - loss: 0.4813 - val_accuracy: 0.7695 - val_loss: 0.4966\n",
      "Epoch 26/200\n",
      "\u001b[1m153/153\u001b[0m \u001b[32m━━━━━━━━━━━━━━━━━━━━\u001b[0m\u001b[37m\u001b[0m \u001b[1m0s\u001b[0m 2ms/step - accuracy: 0.7869 - loss: 0.4885 - val_accuracy: 0.7676 - val_loss: 0.4962\n",
      "Epoch 27/200\n",
      "\u001b[1m153/153\u001b[0m \u001b[32m━━━━━━━━━━━━━━━━━━━━\u001b[0m\u001b[37m\u001b[0m \u001b[1m0s\u001b[0m 1ms/step - accuracy: 0.7904 - loss: 0.4783 - val_accuracy: 0.7705 - val_loss: 0.4958\n",
      "Epoch 28/200\n",
      "\u001b[1m153/153\u001b[0m \u001b[32m━━━━━━━━━━━━━━━━━━━━\u001b[0m\u001b[37m\u001b[0m \u001b[1m0s\u001b[0m 2ms/step - accuracy: 0.7727 - loss: 0.4937 - val_accuracy: 0.7700 - val_loss: 0.4956\n",
      "Epoch 29/200\n",
      "\u001b[1m153/153\u001b[0m \u001b[32m━━━━━━━━━━━━━━━━━━━━\u001b[0m\u001b[37m\u001b[0m \u001b[1m0s\u001b[0m 2ms/step - accuracy: 0.7795 - loss: 0.4918 - val_accuracy: 0.7686 - val_loss: 0.4952\n",
      "Epoch 30/200\n",
      "\u001b[1m153/153\u001b[0m \u001b[32m━━━━━━━━━━━━━━━━━━━━\u001b[0m\u001b[37m\u001b[0m \u001b[1m0s\u001b[0m 2ms/step - accuracy: 0.7819 - loss: 0.4867 - val_accuracy: 0.7695 - val_loss: 0.4951\n",
      "Epoch 31/200\n",
      "\u001b[1m153/153\u001b[0m \u001b[32m━━━━━━━━━━━━━━━━━━━━\u001b[0m\u001b[37m\u001b[0m \u001b[1m0s\u001b[0m 2ms/step - accuracy: 0.7738 - loss: 0.4973 - val_accuracy: 0.7681 - val_loss: 0.4951\n",
      "Epoch 32/200\n",
      "\u001b[1m153/153\u001b[0m \u001b[32m━━━━━━━━━━━━━━━━━━━━\u001b[0m\u001b[37m\u001b[0m \u001b[1m0s\u001b[0m 1ms/step - accuracy: 0.7928 - loss: 0.4683 - val_accuracy: 0.7690 - val_loss: 0.4946\n",
      "Epoch 33/200\n",
      "\u001b[1m153/153\u001b[0m \u001b[32m━━━━━━━━━━━━━━━━━━━━\u001b[0m\u001b[37m\u001b[0m \u001b[1m0s\u001b[0m 2ms/step - accuracy: 0.7854 - loss: 0.4783 - val_accuracy: 0.7676 - val_loss: 0.4943\n",
      "Epoch 34/200\n",
      "\u001b[1m153/153\u001b[0m \u001b[32m━━━━━━━━━━━━━━━━━━━━\u001b[0m\u001b[37m\u001b[0m \u001b[1m0s\u001b[0m 1ms/step - accuracy: 0.7774 - loss: 0.4824 - val_accuracy: 0.7681 - val_loss: 0.4942\n",
      "Epoch 35/200\n",
      "\u001b[1m153/153\u001b[0m \u001b[32m━━━━━━━━━━━━━━━━━━━━\u001b[0m\u001b[37m\u001b[0m \u001b[1m0s\u001b[0m 1ms/step - accuracy: 0.7843 - loss: 0.4859 - val_accuracy: 0.7695 - val_loss: 0.4940\n",
      "Epoch 36/200\n",
      "\u001b[1m153/153\u001b[0m \u001b[32m━━━━━━━━━━━━━━━━━━━━\u001b[0m\u001b[37m\u001b[0m \u001b[1m0s\u001b[0m 2ms/step - accuracy: 0.7817 - loss: 0.4865 - val_accuracy: 0.7690 - val_loss: 0.4938\n",
      "Epoch 37/200\n",
      "\u001b[1m153/153\u001b[0m \u001b[32m━━━━━━━━━━━━━━━━━━━━\u001b[0m\u001b[37m\u001b[0m \u001b[1m0s\u001b[0m 1ms/step - accuracy: 0.7811 - loss: 0.4916 - val_accuracy: 0.7690 - val_loss: 0.4937\n",
      "Epoch 38/200\n",
      "\u001b[1m153/153\u001b[0m \u001b[32m━━━━━━━━━━━━━━━━━━━━\u001b[0m\u001b[37m\u001b[0m \u001b[1m0s\u001b[0m 1ms/step - accuracy: 0.7746 - loss: 0.4920 - val_accuracy: 0.7686 - val_loss: 0.4938\n",
      "Epoch 39/200\n",
      "\u001b[1m153/153\u001b[0m \u001b[32m━━━━━━━━━━━━━━━━━━━━\u001b[0m\u001b[37m\u001b[0m \u001b[1m0s\u001b[0m 1ms/step - accuracy: 0.7896 - loss: 0.4815 - val_accuracy: 0.7686 - val_loss: 0.4936\n",
      "Epoch 40/200\n",
      "\u001b[1m153/153\u001b[0m \u001b[32m━━━━━━━━━━━━━━━━━━━━\u001b[0m\u001b[37m\u001b[0m \u001b[1m0s\u001b[0m 1ms/step - accuracy: 0.7854 - loss: 0.4787 - val_accuracy: 0.7690 - val_loss: 0.4936\n",
      "Epoch 41/200\n",
      "\u001b[1m153/153\u001b[0m \u001b[32m━━━━━━━━━━━━━━━━━━━━\u001b[0m\u001b[37m\u001b[0m \u001b[1m0s\u001b[0m 1ms/step - accuracy: 0.7883 - loss: 0.4782 - val_accuracy: 0.7686 - val_loss: 0.4933\n",
      "Epoch 42/200\n",
      "\u001b[1m153/153\u001b[0m \u001b[32m━━━━━━━━━━━━━━━━━━━━\u001b[0m\u001b[37m\u001b[0m \u001b[1m0s\u001b[0m 2ms/step - accuracy: 0.7894 - loss: 0.4822 - val_accuracy: 0.7695 - val_loss: 0.4933\n",
      "Epoch 43/200\n",
      "\u001b[1m153/153\u001b[0m \u001b[32m━━━━━━━━━━━━━━━━━━━━\u001b[0m\u001b[37m\u001b[0m \u001b[1m0s\u001b[0m 1ms/step - accuracy: 0.7829 - loss: 0.4951 - val_accuracy: 0.7710 - val_loss: 0.4931\n",
      "Epoch 44/200\n",
      "\u001b[1m153/153\u001b[0m \u001b[32m━━━━━━━━━━━━━━━━━━━━\u001b[0m\u001b[37m\u001b[0m \u001b[1m0s\u001b[0m 2ms/step - accuracy: 0.7881 - loss: 0.4798 - val_accuracy: 0.7705 - val_loss: 0.4930\n",
      "Epoch 45/200\n",
      "\u001b[1m153/153\u001b[0m \u001b[32m━━━━━━━━━━━━━━━━━━━━\u001b[0m\u001b[37m\u001b[0m \u001b[1m0s\u001b[0m 2ms/step - accuracy: 0.7822 - loss: 0.4844 - val_accuracy: 0.7705 - val_loss: 0.4929\n",
      "Epoch 46/200\n",
      "\u001b[1m153/153\u001b[0m \u001b[32m━━━━━━━━━━━━━━━━━━━━\u001b[0m\u001b[37m\u001b[0m \u001b[1m0s\u001b[0m 1ms/step - accuracy: 0.7765 - loss: 0.4856 - val_accuracy: 0.7690 - val_loss: 0.4929\n",
      "Epoch 47/200\n",
      "\u001b[1m153/153\u001b[0m \u001b[32m━━━━━━━━━━━━━━━━━━━━\u001b[0m\u001b[37m\u001b[0m \u001b[1m0s\u001b[0m 2ms/step - accuracy: 0.7822 - loss: 0.4789 - val_accuracy: 0.7700 - val_loss: 0.4929\n",
      "Epoch 48/200\n",
      "\u001b[1m153/153\u001b[0m \u001b[32m━━━━━━━━━━━━━━━━━━━━\u001b[0m\u001b[37m\u001b[0m \u001b[1m0s\u001b[0m 1ms/step - accuracy: 0.7958 - loss: 0.4660 - val_accuracy: 0.7690 - val_loss: 0.4930\n",
      "Epoch 49/200\n",
      "\u001b[1m153/153\u001b[0m \u001b[32m━━━━━━━━━━━━━━━━━━━━\u001b[0m\u001b[37m\u001b[0m \u001b[1m0s\u001b[0m 1ms/step - accuracy: 0.7805 - loss: 0.4889 - val_accuracy: 0.7681 - val_loss: 0.4931\n",
      "Epoch 50/200\n",
      "\u001b[1m153/153\u001b[0m \u001b[32m━━━━━━━━━━━━━━━━━━━━\u001b[0m\u001b[37m\u001b[0m \u001b[1m0s\u001b[0m 1ms/step - accuracy: 0.7664 - loss: 0.5009 - val_accuracy: 0.7686 - val_loss: 0.4928\n",
      "Epoch 51/200\n",
      "\u001b[1m153/153\u001b[0m \u001b[32m━━━━━━━━━━━━━━━━━━━━\u001b[0m\u001b[37m\u001b[0m \u001b[1m0s\u001b[0m 1ms/step - accuracy: 0.7781 - loss: 0.4912 - val_accuracy: 0.7686 - val_loss: 0.4928\n",
      "Epoch 52/200\n",
      "\u001b[1m153/153\u001b[0m \u001b[32m━━━━━━━━━━━━━━━━━━━━\u001b[0m\u001b[37m\u001b[0m \u001b[1m0s\u001b[0m 1ms/step - accuracy: 0.7945 - loss: 0.4713 - val_accuracy: 0.7671 - val_loss: 0.4927\n",
      "Epoch 53/200\n",
      "\u001b[1m153/153\u001b[0m \u001b[32m━━━━━━━━━━━━━━━━━━━━\u001b[0m\u001b[37m\u001b[0m \u001b[1m0s\u001b[0m 1ms/step - accuracy: 0.7838 - loss: 0.4756 - val_accuracy: 0.7681 - val_loss: 0.4928\n",
      "Epoch 54/200\n",
      "\u001b[1m153/153\u001b[0m \u001b[32m━━━━━━━━━━━━━━━━━━━━\u001b[0m\u001b[37m\u001b[0m \u001b[1m0s\u001b[0m 1ms/step - accuracy: 0.7926 - loss: 0.4719 - val_accuracy: 0.7676 - val_loss: 0.4928\n",
      "Epoch 55/200\n",
      "\u001b[1m153/153\u001b[0m \u001b[32m━━━━━━━━━━━━━━━━━━━━\u001b[0m\u001b[37m\u001b[0m \u001b[1m0s\u001b[0m 1ms/step - accuracy: 0.7931 - loss: 0.4746 - val_accuracy: 0.7681 - val_loss: 0.4928\n",
      "Epoch 56/200\n",
      "\u001b[1m153/153\u001b[0m \u001b[32m━━━━━━━━━━━━━━━━━━━━\u001b[0m\u001b[37m\u001b[0m \u001b[1m0s\u001b[0m 1ms/step - accuracy: 0.7936 - loss: 0.4747 - val_accuracy: 0.7671 - val_loss: 0.4928\n",
      "Epoch 57/200\n",
      "\u001b[1m153/153\u001b[0m \u001b[32m━━━━━━━━━━━━━━━━━━━━\u001b[0m\u001b[37m\u001b[0m \u001b[1m0s\u001b[0m 1ms/step - accuracy: 0.7821 - loss: 0.4806 - val_accuracy: 0.7667 - val_loss: 0.4927\n",
      "Epoch 58/200\n",
      "\u001b[1m153/153\u001b[0m \u001b[32m━━━━━━━━━━━━━━━━━━━━\u001b[0m\u001b[37m\u001b[0m \u001b[1m0s\u001b[0m 1ms/step - accuracy: 0.7745 - loss: 0.4881 - val_accuracy: 0.7686 - val_loss: 0.4927\n",
      "Epoch 59/200\n",
      "\u001b[1m153/153\u001b[0m \u001b[32m━━━━━━━━━━━━━━━━━━━━\u001b[0m\u001b[37m\u001b[0m \u001b[1m0s\u001b[0m 2ms/step - accuracy: 0.7672 - loss: 0.5017 - val_accuracy: 0.7676 - val_loss: 0.4927\n",
      "Epoch 60/200\n",
      "\u001b[1m153/153\u001b[0m \u001b[32m━━━━━━━━━━━━━━━━━━━━\u001b[0m\u001b[37m\u001b[0m \u001b[1m0s\u001b[0m 3ms/step - accuracy: 0.7793 - loss: 0.4814 - val_accuracy: 0.7681 - val_loss: 0.4928\n",
      "Epoch 61/200\n",
      "\u001b[1m153/153\u001b[0m \u001b[32m━━━━━━━━━━━━━━━━━━━━\u001b[0m\u001b[37m\u001b[0m \u001b[1m1s\u001b[0m 3ms/step - accuracy: 0.7877 - loss: 0.4823 - val_accuracy: 0.7676 - val_loss: 0.4927\n",
      "Epoch 62/200\n",
      "\u001b[1m153/153\u001b[0m \u001b[32m━━━━━━━━━━━━━━━━━━━━\u001b[0m\u001b[37m\u001b[0m \u001b[1m0s\u001b[0m 3ms/step - accuracy: 0.7854 - loss: 0.4732 - val_accuracy: 0.7676 - val_loss: 0.4927\n",
      "Epoch 63/200\n",
      "\u001b[1m153/153\u001b[0m \u001b[32m━━━━━━━━━━━━━━━━━━━━\u001b[0m\u001b[37m\u001b[0m \u001b[1m0s\u001b[0m 3ms/step - accuracy: 0.7782 - loss: 0.4851 - val_accuracy: 0.7681 - val_loss: 0.4926\n",
      "Epoch 64/200\n",
      "\u001b[1m153/153\u001b[0m \u001b[32m━━━━━━━━━━━━━━━━━━━━\u001b[0m\u001b[37m\u001b[0m \u001b[1m0s\u001b[0m 2ms/step - accuracy: 0.7877 - loss: 0.4815 - val_accuracy: 0.7681 - val_loss: 0.4927\n",
      "Epoch 65/200\n",
      "\u001b[1m153/153\u001b[0m \u001b[32m━━━━━━━━━━━━━━━━━━━━\u001b[0m\u001b[37m\u001b[0m \u001b[1m0s\u001b[0m 2ms/step - accuracy: 0.7876 - loss: 0.4795 - val_accuracy: 0.7671 - val_loss: 0.4927\n",
      "Epoch 66/200\n",
      "\u001b[1m153/153\u001b[0m \u001b[32m━━━━━━━━━━━━━━━━━━━━\u001b[0m\u001b[37m\u001b[0m \u001b[1m0s\u001b[0m 2ms/step - accuracy: 0.7887 - loss: 0.4754 - val_accuracy: 0.7671 - val_loss: 0.4927\n",
      "Epoch 67/200\n",
      "\u001b[1m153/153\u001b[0m \u001b[32m━━━━━━━━━━━━━━━━━━━━\u001b[0m\u001b[37m\u001b[0m \u001b[1m0s\u001b[0m 2ms/step - accuracy: 0.7870 - loss: 0.4879 - val_accuracy: 0.7662 - val_loss: 0.4927\n",
      "Epoch 68/200\n",
      "\u001b[1m153/153\u001b[0m \u001b[32m━━━━━━━━━━━━━━━━━━━━\u001b[0m\u001b[37m\u001b[0m \u001b[1m1s\u001b[0m 3ms/step - accuracy: 0.7786 - loss: 0.4872 - val_accuracy: 0.7695 - val_loss: 0.4928\n",
      "Epoch 69/200\n",
      "\u001b[1m153/153\u001b[0m \u001b[32m━━━━━━━━━━━━━━━━━━━━\u001b[0m\u001b[37m\u001b[0m \u001b[1m0s\u001b[0m 2ms/step - accuracy: 0.7847 - loss: 0.4802 - val_accuracy: 0.7695 - val_loss: 0.4927\n",
      "Epoch 70/200\n",
      "\u001b[1m153/153\u001b[0m \u001b[32m━━━━━━━━━━━━━━━━━━━━\u001b[0m\u001b[37m\u001b[0m \u001b[1m0s\u001b[0m 3ms/step - accuracy: 0.7903 - loss: 0.4781 - val_accuracy: 0.7676 - val_loss: 0.4926\n",
      "Epoch 71/200\n",
      "\u001b[1m153/153\u001b[0m \u001b[32m━━━━━━━━━━━━━━━━━━━━\u001b[0m\u001b[37m\u001b[0m \u001b[1m1s\u001b[0m 4ms/step - accuracy: 0.7845 - loss: 0.4843 - val_accuracy: 0.7686 - val_loss: 0.4926\n",
      "Epoch 72/200\n",
      "\u001b[1m153/153\u001b[0m \u001b[32m━━━━━━━━━━━━━━━━━━━━\u001b[0m\u001b[37m\u001b[0m \u001b[1m0s\u001b[0m 3ms/step - accuracy: 0.7854 - loss: 0.4802 - val_accuracy: 0.7705 - val_loss: 0.4926\n",
      "Epoch 73/200\n",
      "\u001b[1m153/153\u001b[0m \u001b[32m━━━━━━━━━━━━━━━━━━━━\u001b[0m\u001b[37m\u001b[0m \u001b[1m0s\u001b[0m 3ms/step - accuracy: 0.7877 - loss: 0.4801 - val_accuracy: 0.7681 - val_loss: 0.4927\n",
      "Epoch 74/200\n",
      "\u001b[1m153/153\u001b[0m \u001b[32m━━━━━━━━━━━━━━━━━━━━\u001b[0m\u001b[37m\u001b[0m \u001b[1m0s\u001b[0m 2ms/step - accuracy: 0.7889 - loss: 0.4759 - val_accuracy: 0.7676 - val_loss: 0.4927\n",
      "Epoch 75/200\n",
      "\u001b[1m153/153\u001b[0m \u001b[32m━━━━━━━━━━━━━━━━━━━━\u001b[0m\u001b[37m\u001b[0m \u001b[1m0s\u001b[0m 2ms/step - accuracy: 0.7871 - loss: 0.4773 - val_accuracy: 0.7671 - val_loss: 0.4927\n",
      "Epoch 76/200\n",
      "\u001b[1m153/153\u001b[0m \u001b[32m━━━━━━━━━━━━━━━━━━━━\u001b[0m\u001b[37m\u001b[0m \u001b[1m0s\u001b[0m 2ms/step - accuracy: 0.7834 - loss: 0.4769 - val_accuracy: 0.7686 - val_loss: 0.4928\n",
      "Epoch 77/200\n",
      "\u001b[1m153/153\u001b[0m \u001b[32m━━━━━━━━━━━━━━━━━━━━\u001b[0m\u001b[37m\u001b[0m \u001b[1m0s\u001b[0m 3ms/step - accuracy: 0.7829 - loss: 0.4862 - val_accuracy: 0.7695 - val_loss: 0.4929\n",
      "Epoch 78/200\n",
      "\u001b[1m153/153\u001b[0m \u001b[32m━━━━━━━━━━━━━━━━━━━━\u001b[0m\u001b[37m\u001b[0m \u001b[1m0s\u001b[0m 3ms/step - accuracy: 0.7828 - loss: 0.4863 - val_accuracy: 0.7705 - val_loss: 0.4929\n",
      "Epoch 79/200\n",
      "\u001b[1m153/153\u001b[0m \u001b[32m━━━━━━━━━━━━━━━━━━━━\u001b[0m\u001b[37m\u001b[0m \u001b[1m0s\u001b[0m 2ms/step - accuracy: 0.7867 - loss: 0.4755 - val_accuracy: 0.7690 - val_loss: 0.4927\n",
      "Epoch 80/200\n",
      "\u001b[1m153/153\u001b[0m \u001b[32m━━━━━━━━━━━━━━━━━━━━\u001b[0m\u001b[37m\u001b[0m \u001b[1m0s\u001b[0m 2ms/step - accuracy: 0.7761 - loss: 0.4912 - val_accuracy: 0.7705 - val_loss: 0.4927\n",
      "Epoch 81/200\n",
      "\u001b[1m153/153\u001b[0m \u001b[32m━━━━━━━━━━━━━━━━━━━━\u001b[0m\u001b[37m\u001b[0m \u001b[1m0s\u001b[0m 2ms/step - accuracy: 0.7861 - loss: 0.4809 - val_accuracy: 0.7700 - val_loss: 0.4927\n",
      "Epoch 82/200\n",
      "\u001b[1m153/153\u001b[0m \u001b[32m━━━━━━━━━━━━━━━━━━━━\u001b[0m\u001b[37m\u001b[0m \u001b[1m0s\u001b[0m 2ms/step - accuracy: 0.7884 - loss: 0.4773 - val_accuracy: 0.7700 - val_loss: 0.4928\n",
      "Epoch 83/200\n",
      "\u001b[1m153/153\u001b[0m \u001b[32m━━━━━━━━━━━━━━━━━━━━\u001b[0m\u001b[37m\u001b[0m \u001b[1m0s\u001b[0m 2ms/step - accuracy: 0.7836 - loss: 0.4843 - val_accuracy: 0.7686 - val_loss: 0.4927\n",
      "Epoch 84/200\n",
      "\u001b[1m153/153\u001b[0m \u001b[32m━━━━━━━━━━━━━━━━━━━━\u001b[0m\u001b[37m\u001b[0m \u001b[1m0s\u001b[0m 2ms/step - accuracy: 0.7877 - loss: 0.4828 - val_accuracy: 0.7686 - val_loss: 0.4926\n",
      "Epoch 85/200\n",
      "\u001b[1m153/153\u001b[0m \u001b[32m━━━━━━━━━━━━━━━━━━━━\u001b[0m\u001b[37m\u001b[0m \u001b[1m0s\u001b[0m 2ms/step - accuracy: 0.7874 - loss: 0.4801 - val_accuracy: 0.7676 - val_loss: 0.4927\n",
      "Epoch 86/200\n",
      "\u001b[1m153/153\u001b[0m \u001b[32m━━━━━━━━━━━━━━━━━━━━\u001b[0m\u001b[37m\u001b[0m \u001b[1m0s\u001b[0m 2ms/step - accuracy: 0.7805 - loss: 0.4799 - val_accuracy: 0.7690 - val_loss: 0.4926\n",
      "Epoch 87/200\n",
      "\u001b[1m153/153\u001b[0m \u001b[32m━━━━━━━━━━━━━━━━━━━━\u001b[0m\u001b[37m\u001b[0m \u001b[1m0s\u001b[0m 2ms/step - accuracy: 0.7942 - loss: 0.4679 - val_accuracy: 0.7681 - val_loss: 0.4927\n",
      "Epoch 88/200\n",
      "\u001b[1m153/153\u001b[0m \u001b[32m━━━━━━━━━━━━━━━━━━━━\u001b[0m\u001b[37m\u001b[0m \u001b[1m0s\u001b[0m 2ms/step - accuracy: 0.7893 - loss: 0.4827 - val_accuracy: 0.7681 - val_loss: 0.4927\n",
      "Epoch 89/200\n",
      "\u001b[1m153/153\u001b[0m \u001b[32m━━━━━━━━━━━━━━━━━━━━\u001b[0m\u001b[37m\u001b[0m \u001b[1m0s\u001b[0m 2ms/step - accuracy: 0.7772 - loss: 0.4960 - val_accuracy: 0.7700 - val_loss: 0.4927\n",
      "Epoch 90/200\n",
      "\u001b[1m153/153\u001b[0m \u001b[32m━━━━━━━━━━━━━━━━━━━━\u001b[0m\u001b[37m\u001b[0m \u001b[1m0s\u001b[0m 2ms/step - accuracy: 0.7815 - loss: 0.4810 - val_accuracy: 0.7676 - val_loss: 0.4929\n",
      "Epoch 91/200\n",
      "\u001b[1m153/153\u001b[0m \u001b[32m━━━━━━━━━━━━━━━━━━━━\u001b[0m\u001b[37m\u001b[0m \u001b[1m0s\u001b[0m 2ms/step - accuracy: 0.7838 - loss: 0.4738 - val_accuracy: 0.7676 - val_loss: 0.4928\n",
      "Epoch 92/200\n",
      "\u001b[1m153/153\u001b[0m \u001b[32m━━━━━━━━━━━━━━━━━━━━\u001b[0m\u001b[37m\u001b[0m \u001b[1m0s\u001b[0m 2ms/step - accuracy: 0.7892 - loss: 0.4775 - val_accuracy: 0.7681 - val_loss: 0.4928\n",
      "Epoch 93/200\n",
      "\u001b[1m153/153\u001b[0m \u001b[32m━━━━━━━━━━━━━━━━━━━━\u001b[0m\u001b[37m\u001b[0m \u001b[1m0s\u001b[0m 2ms/step - accuracy: 0.7780 - loss: 0.4847 - val_accuracy: 0.7695 - val_loss: 0.4927\n",
      "Epoch 94/200\n",
      "\u001b[1m153/153\u001b[0m \u001b[32m━━━━━━━━━━━━━━━━━━━━\u001b[0m\u001b[37m\u001b[0m \u001b[1m0s\u001b[0m 2ms/step - accuracy: 0.7869 - loss: 0.4752 - val_accuracy: 0.7700 - val_loss: 0.4927\n",
      "Epoch 95/200\n",
      "\u001b[1m153/153\u001b[0m \u001b[32m━━━━━━━━━━━━━━━━━━━━\u001b[0m\u001b[37m\u001b[0m \u001b[1m0s\u001b[0m 2ms/step - accuracy: 0.7818 - loss: 0.4842 - val_accuracy: 0.7690 - val_loss: 0.4927\n",
      "Epoch 96/200\n",
      "\u001b[1m153/153\u001b[0m \u001b[32m━━━━━━━━━━━━━━━━━━━━\u001b[0m\u001b[37m\u001b[0m \u001b[1m0s\u001b[0m 2ms/step - accuracy: 0.7837 - loss: 0.4841 - val_accuracy: 0.7676 - val_loss: 0.4928\n",
      "Epoch 97/200\n",
      "\u001b[1m153/153\u001b[0m \u001b[32m━━━━━━━━━━━━━━━━━━━━\u001b[0m\u001b[37m\u001b[0m \u001b[1m0s\u001b[0m 2ms/step - accuracy: 0.7892 - loss: 0.4749 - val_accuracy: 0.7686 - val_loss: 0.4927\n",
      "Epoch 98/200\n",
      "\u001b[1m153/153\u001b[0m \u001b[32m━━━━━━━━━━━━━━━━━━━━\u001b[0m\u001b[37m\u001b[0m \u001b[1m0s\u001b[0m 2ms/step - accuracy: 0.7815 - loss: 0.4850 - val_accuracy: 0.7690 - val_loss: 0.4927\n",
      "Epoch 99/200\n",
      "\u001b[1m153/153\u001b[0m \u001b[32m━━━━━━━━━━━━━━━━━━━━\u001b[0m\u001b[37m\u001b[0m \u001b[1m0s\u001b[0m 2ms/step - accuracy: 0.8000 - loss: 0.4700 - val_accuracy: 0.7695 - val_loss: 0.4927\n",
      "Epoch 100/200\n",
      "\u001b[1m153/153\u001b[0m \u001b[32m━━━━━━━━━━━━━━━━━━━━\u001b[0m\u001b[37m\u001b[0m \u001b[1m0s\u001b[0m 2ms/step - accuracy: 0.7838 - loss: 0.4747 - val_accuracy: 0.7705 - val_loss: 0.4928\n",
      "Epoch 101/200\n",
      "\u001b[1m153/153\u001b[0m \u001b[32m━━━━━━━━━━━━━━━━━━━━\u001b[0m\u001b[37m\u001b[0m \u001b[1m0s\u001b[0m 2ms/step - accuracy: 0.7889 - loss: 0.4770 - val_accuracy: 0.7695 - val_loss: 0.4929\n",
      "Epoch 102/200\n",
      "\u001b[1m153/153\u001b[0m \u001b[32m━━━━━━━━━━━━━━━━━━━━\u001b[0m\u001b[37m\u001b[0m \u001b[1m0s\u001b[0m 2ms/step - accuracy: 0.7805 - loss: 0.4880 - val_accuracy: 0.7690 - val_loss: 0.4928\n",
      "Epoch 103/200\n",
      "\u001b[1m153/153\u001b[0m \u001b[32m━━━━━━━━━━━━━━━━━━━━\u001b[0m\u001b[37m\u001b[0m \u001b[1m0s\u001b[0m 2ms/step - accuracy: 0.7779 - loss: 0.4887 - val_accuracy: 0.7724 - val_loss: 0.4928\n",
      "Epoch 104/200\n",
      "\u001b[1m153/153\u001b[0m \u001b[32m━━━━━━━━━━━━━━━━━━━━\u001b[0m\u001b[37m\u001b[0m \u001b[1m0s\u001b[0m 2ms/step - accuracy: 0.7785 - loss: 0.4814 - val_accuracy: 0.7695 - val_loss: 0.4929\n",
      "Epoch 105/200\n",
      "\u001b[1m153/153\u001b[0m \u001b[32m━━━━━━━━━━━━━━━━━━━━\u001b[0m\u001b[37m\u001b[0m \u001b[1m0s\u001b[0m 2ms/step - accuracy: 0.7861 - loss: 0.4760 - val_accuracy: 0.7690 - val_loss: 0.4928\n",
      "Epoch 106/200\n",
      "\u001b[1m153/153\u001b[0m \u001b[32m━━━━━━━━━━━━━━━━━━━━\u001b[0m\u001b[37m\u001b[0m \u001b[1m0s\u001b[0m 2ms/step - accuracy: 0.7872 - loss: 0.4733 - val_accuracy: 0.7681 - val_loss: 0.4927\n",
      "Epoch 107/200\n",
      "\u001b[1m153/153\u001b[0m \u001b[32m━━━━━━━━━━━━━━━━━━━━\u001b[0m\u001b[37m\u001b[0m \u001b[1m0s\u001b[0m 2ms/step - accuracy: 0.7793 - loss: 0.4949 - val_accuracy: 0.7676 - val_loss: 0.4928\n",
      "Epoch 108/200\n",
      "\u001b[1m153/153\u001b[0m \u001b[32m━━━━━━━━━━━━━━━━━━━━\u001b[0m\u001b[37m\u001b[0m \u001b[1m0s\u001b[0m 2ms/step - accuracy: 0.7865 - loss: 0.4774 - val_accuracy: 0.7695 - val_loss: 0.4927\n",
      "Epoch 109/200\n",
      "\u001b[1m153/153\u001b[0m \u001b[32m━━━━━━━━━━━━━━━━━━━━\u001b[0m\u001b[37m\u001b[0m \u001b[1m0s\u001b[0m 2ms/step - accuracy: 0.7779 - loss: 0.4949 - val_accuracy: 0.7676 - val_loss: 0.4928\n",
      "Epoch 110/200\n",
      "\u001b[1m153/153\u001b[0m \u001b[32m━━━━━━━━━━━━━━━━━━━━\u001b[0m\u001b[37m\u001b[0m \u001b[1m0s\u001b[0m 2ms/step - accuracy: 0.7877 - loss: 0.4798 - val_accuracy: 0.7681 - val_loss: 0.4930\n",
      "Epoch 111/200\n",
      "\u001b[1m153/153\u001b[0m \u001b[32m━━━━━━━━━━━━━━━━━━━━\u001b[0m\u001b[37m\u001b[0m \u001b[1m0s\u001b[0m 2ms/step - accuracy: 0.7875 - loss: 0.4798 - val_accuracy: 0.7681 - val_loss: 0.4928\n",
      "Epoch 112/200\n",
      "\u001b[1m153/153\u001b[0m \u001b[32m━━━━━━━━━━━━━━━━━━━━\u001b[0m\u001b[37m\u001b[0m \u001b[1m0s\u001b[0m 2ms/step - accuracy: 0.7822 - loss: 0.4888 - val_accuracy: 0.7686 - val_loss: 0.4928\n",
      "Epoch 113/200\n",
      "\u001b[1m153/153\u001b[0m \u001b[32m━━━━━━━━━━━━━━━━━━━━\u001b[0m\u001b[37m\u001b[0m \u001b[1m0s\u001b[0m 2ms/step - accuracy: 0.7734 - loss: 0.4906 - val_accuracy: 0.7695 - val_loss: 0.4927\n",
      "Epoch 114/200\n",
      "\u001b[1m153/153\u001b[0m \u001b[32m━━━━━━━━━━━━━━━━━━━━\u001b[0m\u001b[37m\u001b[0m \u001b[1m0s\u001b[0m 2ms/step - accuracy: 0.7897 - loss: 0.4684 - val_accuracy: 0.7690 - val_loss: 0.4929\n",
      "Epoch 115/200\n",
      "\u001b[1m153/153\u001b[0m \u001b[32m━━━━━━━━━━━━━━━━━━━━\u001b[0m\u001b[37m\u001b[0m \u001b[1m0s\u001b[0m 2ms/step - accuracy: 0.7792 - loss: 0.4903 - val_accuracy: 0.7681 - val_loss: 0.4930\n",
      "Epoch 116/200\n",
      "\u001b[1m153/153\u001b[0m \u001b[32m━━━━━━━━━━━━━━━━━━━━\u001b[0m\u001b[37m\u001b[0m \u001b[1m0s\u001b[0m 2ms/step - accuracy: 0.7891 - loss: 0.4807 - val_accuracy: 0.7676 - val_loss: 0.4929\n",
      "Epoch 117/200\n",
      "\u001b[1m153/153\u001b[0m \u001b[32m━━━━━━━━━━━━━━━━━━━━\u001b[0m\u001b[37m\u001b[0m \u001b[1m0s\u001b[0m 2ms/step - accuracy: 0.7822 - loss: 0.4858 - val_accuracy: 0.7676 - val_loss: 0.4928\n",
      "Epoch 118/200\n",
      "\u001b[1m153/153\u001b[0m \u001b[32m━━━━━━━━━━━━━━━━━━━━\u001b[0m\u001b[37m\u001b[0m \u001b[1m0s\u001b[0m 2ms/step - accuracy: 0.7791 - loss: 0.4887 - val_accuracy: 0.7695 - val_loss: 0.4928\n",
      "Epoch 119/200\n",
      "\u001b[1m153/153\u001b[0m \u001b[32m━━━━━━━━━━━━━━━━━━━━\u001b[0m\u001b[37m\u001b[0m \u001b[1m0s\u001b[0m 2ms/step - accuracy: 0.7892 - loss: 0.4785 - val_accuracy: 0.7695 - val_loss: 0.4928\n",
      "Epoch 120/200\n",
      "\u001b[1m153/153\u001b[0m \u001b[32m━━━━━━━━━━━━━━━━━━━━\u001b[0m\u001b[37m\u001b[0m \u001b[1m0s\u001b[0m 2ms/step - accuracy: 0.7913 - loss: 0.4755 - val_accuracy: 0.7681 - val_loss: 0.4929\n",
      "Epoch 121/200\n",
      "\u001b[1m153/153\u001b[0m \u001b[32m━━━━━━━━━━━━━━━━━━━━\u001b[0m\u001b[37m\u001b[0m \u001b[1m0s\u001b[0m 2ms/step - accuracy: 0.7818 - loss: 0.4838 - val_accuracy: 0.7686 - val_loss: 0.4929\n",
      "Epoch 122/200\n",
      "\u001b[1m153/153\u001b[0m \u001b[32m━━━━━━━━━━━━━━━━━━━━\u001b[0m\u001b[37m\u001b[0m \u001b[1m0s\u001b[0m 2ms/step - accuracy: 0.7832 - loss: 0.4861 - val_accuracy: 0.7695 - val_loss: 0.4929\n",
      "Epoch 123/200\n",
      "\u001b[1m153/153\u001b[0m \u001b[32m━━━━━━━━━━━━━━━━━━━━\u001b[0m\u001b[37m\u001b[0m \u001b[1m0s\u001b[0m 2ms/step - accuracy: 0.7879 - loss: 0.4717 - val_accuracy: 0.7676 - val_loss: 0.4929\n",
      "Epoch 124/200\n",
      "\u001b[1m153/153\u001b[0m \u001b[32m━━━━━━━━━━━━━━━━━━━━\u001b[0m\u001b[37m\u001b[0m \u001b[1m0s\u001b[0m 2ms/step - accuracy: 0.7880 - loss: 0.4624 - val_accuracy: 0.7681 - val_loss: 0.4930\n",
      "Epoch 125/200\n",
      "\u001b[1m153/153\u001b[0m \u001b[32m━━━━━━━━━━━━━━━━━━━━\u001b[0m\u001b[37m\u001b[0m \u001b[1m0s\u001b[0m 2ms/step - accuracy: 0.7767 - loss: 0.4887 - val_accuracy: 0.7700 - val_loss: 0.4928\n",
      "Epoch 126/200\n",
      "\u001b[1m153/153\u001b[0m \u001b[32m━━━━━━━━━━━━━━━━━━━━\u001b[0m\u001b[37m\u001b[0m \u001b[1m0s\u001b[0m 2ms/step - accuracy: 0.7920 - loss: 0.4720 - val_accuracy: 0.7690 - val_loss: 0.4929\n",
      "Epoch 127/200\n",
      "\u001b[1m153/153\u001b[0m \u001b[32m━━━━━━━━━━━━━━━━━━━━\u001b[0m\u001b[37m\u001b[0m \u001b[1m0s\u001b[0m 2ms/step - accuracy: 0.7822 - loss: 0.4828 - val_accuracy: 0.7705 - val_loss: 0.4928\n",
      "Epoch 128/200\n",
      "\u001b[1m153/153\u001b[0m \u001b[32m━━━━━━━━━━━━━━━━━━━━\u001b[0m\u001b[37m\u001b[0m \u001b[1m0s\u001b[0m 2ms/step - accuracy: 0.7892 - loss: 0.4708 - val_accuracy: 0.7686 - val_loss: 0.4930\n",
      "Epoch 129/200\n",
      "\u001b[1m153/153\u001b[0m \u001b[32m━━━━━━━━━━━━━━━━━━━━\u001b[0m\u001b[37m\u001b[0m \u001b[1m0s\u001b[0m 2ms/step - accuracy: 0.7786 - loss: 0.4863 - val_accuracy: 0.7681 - val_loss: 0.4930\n",
      "Epoch 130/200\n",
      "\u001b[1m153/153\u001b[0m \u001b[32m━━━━━━━━━━━━━━━━━━━━\u001b[0m\u001b[37m\u001b[0m \u001b[1m0s\u001b[0m 2ms/step - accuracy: 0.7800 - loss: 0.4833 - val_accuracy: 0.7714 - val_loss: 0.4930\n",
      "Epoch 131/200\n",
      "\u001b[1m153/153\u001b[0m \u001b[32m━━━━━━━━━━━━━━━━━━━━\u001b[0m\u001b[37m\u001b[0m \u001b[1m0s\u001b[0m 2ms/step - accuracy: 0.7875 - loss: 0.4756 - val_accuracy: 0.7686 - val_loss: 0.4930\n",
      "Epoch 132/200\n",
      "\u001b[1m153/153\u001b[0m \u001b[32m━━━━━━━━━━━━━━━━━━━━\u001b[0m\u001b[37m\u001b[0m \u001b[1m0s\u001b[0m 2ms/step - accuracy: 0.7816 - loss: 0.4829 - val_accuracy: 0.7676 - val_loss: 0.4930\n",
      "Epoch 133/200\n",
      "\u001b[1m153/153\u001b[0m \u001b[32m━━━━━━━━━━━━━━━━━━━━\u001b[0m\u001b[37m\u001b[0m \u001b[1m0s\u001b[0m 2ms/step - accuracy: 0.7863 - loss: 0.4772 - val_accuracy: 0.7676 - val_loss: 0.4930\n",
      "Epoch 134/200\n",
      "\u001b[1m153/153\u001b[0m \u001b[32m━━━━━━━━━━━━━━━━━━━━\u001b[0m\u001b[37m\u001b[0m \u001b[1m0s\u001b[0m 2ms/step - accuracy: 0.7874 - loss: 0.4837 - val_accuracy: 0.7686 - val_loss: 0.4931\n",
      "Epoch 135/200\n",
      "\u001b[1m153/153\u001b[0m \u001b[32m━━━━━━━━━━━━━━━━━━━━\u001b[0m\u001b[37m\u001b[0m \u001b[1m0s\u001b[0m 2ms/step - accuracy: 0.7884 - loss: 0.4757 - val_accuracy: 0.7681 - val_loss: 0.4932\n",
      "Epoch 136/200\n",
      "\u001b[1m153/153\u001b[0m \u001b[32m━━━━━━━━━━━━━━━━━━━━\u001b[0m\u001b[37m\u001b[0m \u001b[1m0s\u001b[0m 2ms/step - accuracy: 0.7803 - loss: 0.4827 - val_accuracy: 0.7681 - val_loss: 0.4932\n",
      "Epoch 137/200\n",
      "\u001b[1m153/153\u001b[0m \u001b[32m━━━━━━━━━━━━━━━━━━━━\u001b[0m\u001b[37m\u001b[0m \u001b[1m0s\u001b[0m 2ms/step - accuracy: 0.7814 - loss: 0.4892 - val_accuracy: 0.7729 - val_loss: 0.4930\n",
      "Epoch 138/200\n",
      "\u001b[1m153/153\u001b[0m \u001b[32m━━━━━━━━━━━━━━━━━━━━\u001b[0m\u001b[37m\u001b[0m \u001b[1m0s\u001b[0m 2ms/step - accuracy: 0.7731 - loss: 0.4943 - val_accuracy: 0.7695 - val_loss: 0.4930\n",
      "Epoch 139/200\n",
      "\u001b[1m153/153\u001b[0m \u001b[32m━━━━━━━━━━━━━━━━━━━━\u001b[0m\u001b[37m\u001b[0m \u001b[1m0s\u001b[0m 2ms/step - accuracy: 0.7875 - loss: 0.4848 - val_accuracy: 0.7690 - val_loss: 0.4929\n",
      "Epoch 140/200\n",
      "\u001b[1m153/153\u001b[0m \u001b[32m━━━━━━━━━━━━━━━━━━━━\u001b[0m\u001b[37m\u001b[0m \u001b[1m0s\u001b[0m 2ms/step - accuracy: 0.7981 - loss: 0.4659 - val_accuracy: 0.7681 - val_loss: 0.4929\n",
      "Epoch 141/200\n",
      "\u001b[1m153/153\u001b[0m \u001b[32m━━━━━━━━━━━━━━━━━━━━\u001b[0m\u001b[37m\u001b[0m \u001b[1m0s\u001b[0m 2ms/step - accuracy: 0.7788 - loss: 0.4930 - val_accuracy: 0.7676 - val_loss: 0.4930\n",
      "Epoch 142/200\n",
      "\u001b[1m153/153\u001b[0m \u001b[32m━━━━━━━━━━━━━━━━━━━━\u001b[0m\u001b[37m\u001b[0m \u001b[1m0s\u001b[0m 2ms/step - accuracy: 0.7824 - loss: 0.4834 - val_accuracy: 0.7676 - val_loss: 0.4929\n",
      "Epoch 143/200\n",
      "\u001b[1m153/153\u001b[0m \u001b[32m━━━━━━━━━━━━━━━━━━━━\u001b[0m\u001b[37m\u001b[0m \u001b[1m0s\u001b[0m 2ms/step - accuracy: 0.7865 - loss: 0.4824 - val_accuracy: 0.7686 - val_loss: 0.4929\n",
      "Epoch 144/200\n",
      "\u001b[1m153/153\u001b[0m \u001b[32m━━━━━━━━━━━━━━━━━━━━\u001b[0m\u001b[37m\u001b[0m \u001b[1m0s\u001b[0m 2ms/step - accuracy: 0.7864 - loss: 0.4801 - val_accuracy: 0.7676 - val_loss: 0.4929\n",
      "Epoch 145/200\n",
      "\u001b[1m153/153\u001b[0m \u001b[32m━━━━━━━━━━━━━━━━━━━━\u001b[0m\u001b[37m\u001b[0m \u001b[1m0s\u001b[0m 2ms/step - accuracy: 0.7802 - loss: 0.4897 - val_accuracy: 0.7705 - val_loss: 0.4929\n",
      "Epoch 146/200\n",
      "\u001b[1m153/153\u001b[0m \u001b[32m━━━━━━━━━━━━━━━━━━━━\u001b[0m\u001b[37m\u001b[0m \u001b[1m0s\u001b[0m 2ms/step - accuracy: 0.7917 - loss: 0.4713 - val_accuracy: 0.7686 - val_loss: 0.4928\n",
      "Epoch 147/200\n",
      "\u001b[1m153/153\u001b[0m \u001b[32m━━━━━━━━━━━━━━━━━━━━\u001b[0m\u001b[37m\u001b[0m \u001b[1m0s\u001b[0m 2ms/step - accuracy: 0.7862 - loss: 0.4742 - val_accuracy: 0.7690 - val_loss: 0.4929\n",
      "Epoch 148/200\n",
      "\u001b[1m153/153\u001b[0m \u001b[32m━━━━━━━━━━━━━━━━━━━━\u001b[0m\u001b[37m\u001b[0m \u001b[1m0s\u001b[0m 2ms/step - accuracy: 0.7783 - loss: 0.4933 - val_accuracy: 0.7681 - val_loss: 0.4930\n",
      "Epoch 149/200\n",
      "\u001b[1m153/153\u001b[0m \u001b[32m━━━━━━━━━━━━━━━━━━━━\u001b[0m\u001b[37m\u001b[0m \u001b[1m0s\u001b[0m 2ms/step - accuracy: 0.7803 - loss: 0.4819 - val_accuracy: 0.7700 - val_loss: 0.4929\n",
      "Epoch 150/200\n",
      "\u001b[1m153/153\u001b[0m \u001b[32m━━━━━━━━━━━━━━━━━━━━\u001b[0m\u001b[37m\u001b[0m \u001b[1m0s\u001b[0m 2ms/step - accuracy: 0.7822 - loss: 0.4856 - val_accuracy: 0.7700 - val_loss: 0.4928\n",
      "Epoch 151/200\n",
      "\u001b[1m153/153\u001b[0m \u001b[32m━━━━━━━━━━━━━━━━━━━━\u001b[0m\u001b[37m\u001b[0m \u001b[1m0s\u001b[0m 2ms/step - accuracy: 0.7787 - loss: 0.4794 - val_accuracy: 0.7671 - val_loss: 0.4929\n",
      "Epoch 152/200\n",
      "\u001b[1m153/153\u001b[0m \u001b[32m━━━━━━━━━━━━━━━━━━━━\u001b[0m\u001b[37m\u001b[0m \u001b[1m0s\u001b[0m 2ms/step - accuracy: 0.7918 - loss: 0.4765 - val_accuracy: 0.7681 - val_loss: 0.4929\n",
      "Epoch 153/200\n",
      "\u001b[1m153/153\u001b[0m \u001b[32m━━━━━━━━━━━━━━━━━━━━\u001b[0m\u001b[37m\u001b[0m \u001b[1m0s\u001b[0m 1ms/step - accuracy: 0.7892 - loss: 0.4671 - val_accuracy: 0.7681 - val_loss: 0.4930\n",
      "Epoch 154/200\n",
      "\u001b[1m153/153\u001b[0m \u001b[32m━━━━━━━━━━━━━━━━━━━━\u001b[0m\u001b[37m\u001b[0m \u001b[1m0s\u001b[0m 2ms/step - accuracy: 0.7920 - loss: 0.4727 - val_accuracy: 0.7676 - val_loss: 0.4928\n",
      "Epoch 155/200\n",
      "\u001b[1m153/153\u001b[0m \u001b[32m━━━━━━━━━━━━━━━━━━━━\u001b[0m\u001b[37m\u001b[0m \u001b[1m0s\u001b[0m 1ms/step - accuracy: 0.7890 - loss: 0.4717 - val_accuracy: 0.7690 - val_loss: 0.4928\n",
      "Epoch 156/200\n",
      "\u001b[1m153/153\u001b[0m \u001b[32m━━━━━━━━━━━━━━━━━━━━\u001b[0m\u001b[37m\u001b[0m \u001b[1m0s\u001b[0m 2ms/step - accuracy: 0.7855 - loss: 0.4780 - val_accuracy: 0.7690 - val_loss: 0.4929\n",
      "Epoch 157/200\n",
      "\u001b[1m153/153\u001b[0m \u001b[32m━━━━━━━━━━━━━━━━━━━━\u001b[0m\u001b[37m\u001b[0m \u001b[1m0s\u001b[0m 2ms/step - accuracy: 0.7814 - loss: 0.4862 - val_accuracy: 0.7690 - val_loss: 0.4929\n",
      "Epoch 158/200\n",
      "\u001b[1m153/153\u001b[0m \u001b[32m━━━━━━━━━━━━━━━━━━━━\u001b[0m\u001b[37m\u001b[0m \u001b[1m0s\u001b[0m 2ms/step - accuracy: 0.7824 - loss: 0.4837 - val_accuracy: 0.7681 - val_loss: 0.4929\n",
      "Epoch 159/200\n",
      "\u001b[1m153/153\u001b[0m \u001b[32m━━━━━━━━━━━━━━━━━━━━\u001b[0m\u001b[37m\u001b[0m \u001b[1m0s\u001b[0m 2ms/step - accuracy: 0.7872 - loss: 0.4763 - val_accuracy: 0.7690 - val_loss: 0.4928\n",
      "Epoch 160/200\n",
      "\u001b[1m153/153\u001b[0m \u001b[32m━━━━━━━━━━━━━━━━━━━━\u001b[0m\u001b[37m\u001b[0m \u001b[1m0s\u001b[0m 2ms/step - accuracy: 0.7830 - loss: 0.4729 - val_accuracy: 0.7700 - val_loss: 0.4929\n",
      "Epoch 161/200\n",
      "\u001b[1m153/153\u001b[0m \u001b[32m━━━━━━━━━━━━━━━━━━━━\u001b[0m\u001b[37m\u001b[0m \u001b[1m0s\u001b[0m 2ms/step - accuracy: 0.8016 - loss: 0.4605 - val_accuracy: 0.7686 - val_loss: 0.4929\n",
      "Epoch 162/200\n",
      "\u001b[1m153/153\u001b[0m \u001b[32m━━━━━━━━━━━━━━━━━━━━\u001b[0m\u001b[37m\u001b[0m \u001b[1m0s\u001b[0m 2ms/step - accuracy: 0.7845 - loss: 0.4853 - val_accuracy: 0.7686 - val_loss: 0.4928\n",
      "Epoch 163/200\n",
      "\u001b[1m153/153\u001b[0m \u001b[32m━━━━━━━━━━━━━━━━━━━━\u001b[0m\u001b[37m\u001b[0m \u001b[1m0s\u001b[0m 2ms/step - accuracy: 0.7774 - loss: 0.4924 - val_accuracy: 0.7695 - val_loss: 0.4930\n",
      "Epoch 164/200\n",
      "\u001b[1m153/153\u001b[0m \u001b[32m━━━━━━━━━━━━━━━━━━━━\u001b[0m\u001b[37m\u001b[0m \u001b[1m0s\u001b[0m 2ms/step - accuracy: 0.7799 - loss: 0.4957 - val_accuracy: 0.7681 - val_loss: 0.4929\n",
      "Epoch 165/200\n",
      "\u001b[1m153/153\u001b[0m \u001b[32m━━━━━━━━━━━━━━━━━━━━\u001b[0m\u001b[37m\u001b[0m \u001b[1m0s\u001b[0m 2ms/step - accuracy: 0.7766 - loss: 0.4906 - val_accuracy: 0.7695 - val_loss: 0.4928\n",
      "Epoch 166/200\n",
      "\u001b[1m153/153\u001b[0m \u001b[32m━━━━━━━━━━━━━━━━━━━━\u001b[0m\u001b[37m\u001b[0m \u001b[1m0s\u001b[0m 2ms/step - accuracy: 0.7805 - loss: 0.4792 - val_accuracy: 0.7681 - val_loss: 0.4929\n",
      "Epoch 167/200\n",
      "\u001b[1m153/153\u001b[0m \u001b[32m━━━━━━━━━━━━━━━━━━━━\u001b[0m\u001b[37m\u001b[0m \u001b[1m0s\u001b[0m 2ms/step - accuracy: 0.7842 - loss: 0.4753 - val_accuracy: 0.7695 - val_loss: 0.4928\n",
      "Epoch 168/200\n",
      "\u001b[1m153/153\u001b[0m \u001b[32m━━━━━━━━━━━━━━━━━━━━\u001b[0m\u001b[37m\u001b[0m \u001b[1m0s\u001b[0m 2ms/step - accuracy: 0.7824 - loss: 0.4864 - val_accuracy: 0.7690 - val_loss: 0.4929\n",
      "Epoch 169/200\n",
      "\u001b[1m153/153\u001b[0m \u001b[32m━━━━━━━━━━━━━━━━━━━━\u001b[0m\u001b[37m\u001b[0m \u001b[1m0s\u001b[0m 2ms/step - accuracy: 0.7808 - loss: 0.4843 - val_accuracy: 0.7700 - val_loss: 0.4927\n",
      "Epoch 170/200\n",
      "\u001b[1m153/153\u001b[0m \u001b[32m━━━━━━━━━━━━━━━━━━━━\u001b[0m\u001b[37m\u001b[0m \u001b[1m0s\u001b[0m 2ms/step - accuracy: 0.7816 - loss: 0.4821 - val_accuracy: 0.7700 - val_loss: 0.4928\n",
      "Epoch 171/200\n",
      "\u001b[1m153/153\u001b[0m \u001b[32m━━━━━━━━━━━━━━━━━━━━\u001b[0m\u001b[37m\u001b[0m \u001b[1m0s\u001b[0m 2ms/step - accuracy: 0.7826 - loss: 0.4818 - val_accuracy: 0.7695 - val_loss: 0.4927\n",
      "Epoch 172/200\n",
      "\u001b[1m153/153\u001b[0m \u001b[32m━━━━━━━━━━━━━━━━━━━━\u001b[0m\u001b[37m\u001b[0m \u001b[1m0s\u001b[0m 2ms/step - accuracy: 0.7847 - loss: 0.4810 - val_accuracy: 0.7681 - val_loss: 0.4928\n",
      "Epoch 173/200\n",
      "\u001b[1m153/153\u001b[0m \u001b[32m━━━━━━━━━━━━━━━━━━━━\u001b[0m\u001b[37m\u001b[0m \u001b[1m0s\u001b[0m 2ms/step - accuracy: 0.7857 - loss: 0.4778 - val_accuracy: 0.7667 - val_loss: 0.4929\n",
      "Epoch 174/200\n",
      "\u001b[1m153/153\u001b[0m \u001b[32m━━━━━━━━━━━━━━━━━━━━\u001b[0m\u001b[37m\u001b[0m \u001b[1m0s\u001b[0m 2ms/step - accuracy: 0.7870 - loss: 0.4838 - val_accuracy: 0.7667 - val_loss: 0.4930\n",
      "Epoch 175/200\n",
      "\u001b[1m153/153\u001b[0m \u001b[32m━━━━━━━━━━━━━━━━━━━━\u001b[0m\u001b[37m\u001b[0m \u001b[1m0s\u001b[0m 2ms/step - accuracy: 0.7852 - loss: 0.4814 - val_accuracy: 0.7686 - val_loss: 0.4929\n",
      "Epoch 176/200\n",
      "\u001b[1m153/153\u001b[0m \u001b[32m━━━━━━━━━━━━━━━━━━━━\u001b[0m\u001b[37m\u001b[0m \u001b[1m0s\u001b[0m 2ms/step - accuracy: 0.7877 - loss: 0.4685 - val_accuracy: 0.7686 - val_loss: 0.4928\n",
      "Epoch 177/200\n",
      "\u001b[1m153/153\u001b[0m \u001b[32m━━━━━━━━━━━━━━━━━━━━\u001b[0m\u001b[37m\u001b[0m \u001b[1m0s\u001b[0m 2ms/step - accuracy: 0.7754 - loss: 0.4901 - val_accuracy: 0.7705 - val_loss: 0.4929\n",
      "Epoch 178/200\n",
      "\u001b[1m153/153\u001b[0m \u001b[32m━━━━━━━━━━━━━━━━━━━━\u001b[0m\u001b[37m\u001b[0m \u001b[1m0s\u001b[0m 2ms/step - accuracy: 0.7867 - loss: 0.4851 - val_accuracy: 0.7690 - val_loss: 0.4930\n",
      "Epoch 179/200\n",
      "\u001b[1m153/153\u001b[0m \u001b[32m━━━━━━━━━━━━━━━━━━━━\u001b[0m\u001b[37m\u001b[0m \u001b[1m0s\u001b[0m 2ms/step - accuracy: 0.7956 - loss: 0.4711 - val_accuracy: 0.7690 - val_loss: 0.4928\n",
      "Epoch 180/200\n",
      "\u001b[1m153/153\u001b[0m \u001b[32m━━━━━━━━━━━━━━━━━━━━\u001b[0m\u001b[37m\u001b[0m \u001b[1m0s\u001b[0m 2ms/step - accuracy: 0.7735 - loss: 0.4950 - val_accuracy: 0.7705 - val_loss: 0.4928\n",
      "Epoch 181/200\n",
      "\u001b[1m153/153\u001b[0m \u001b[32m━━━━━━━━━━━━━━━━━━━━\u001b[0m\u001b[37m\u001b[0m \u001b[1m0s\u001b[0m 2ms/step - accuracy: 0.7754 - loss: 0.4902 - val_accuracy: 0.7705 - val_loss: 0.4929\n",
      "Epoch 182/200\n",
      "\u001b[1m153/153\u001b[0m \u001b[32m━━━━━━━━━━━━━━━━━━━━\u001b[0m\u001b[37m\u001b[0m \u001b[1m0s\u001b[0m 1ms/step - accuracy: 0.7823 - loss: 0.4878 - val_accuracy: 0.7695 - val_loss: 0.4930\n",
      "Epoch 183/200\n",
      "\u001b[1m153/153\u001b[0m \u001b[32m━━━━━━━━━━━━━━━━━━━━\u001b[0m\u001b[37m\u001b[0m \u001b[1m0s\u001b[0m 2ms/step - accuracy: 0.7963 - loss: 0.4736 - val_accuracy: 0.7690 - val_loss: 0.4929\n",
      "Epoch 184/200\n",
      "\u001b[1m153/153\u001b[0m \u001b[32m━━━━━━━━━━━━━━━━━━━━\u001b[0m\u001b[37m\u001b[0m \u001b[1m0s\u001b[0m 2ms/step - accuracy: 0.7843 - loss: 0.4835 - val_accuracy: 0.7681 - val_loss: 0.4929\n",
      "Epoch 185/200\n",
      "\u001b[1m153/153\u001b[0m \u001b[32m━━━━━━━━━━━━━━━━━━━━\u001b[0m\u001b[37m\u001b[0m \u001b[1m0s\u001b[0m 2ms/step - accuracy: 0.7892 - loss: 0.4862 - val_accuracy: 0.7690 - val_loss: 0.4929\n",
      "Epoch 186/200\n",
      "\u001b[1m153/153\u001b[0m \u001b[32m━━━━━━━━━━━━━━━━━━━━\u001b[0m\u001b[37m\u001b[0m \u001b[1m0s\u001b[0m 2ms/step - accuracy: 0.7793 - loss: 0.4821 - val_accuracy: 0.7676 - val_loss: 0.4931\n",
      "Epoch 187/200\n",
      "\u001b[1m153/153\u001b[0m \u001b[32m━━━━━━━━━━━━━━━━━━━━\u001b[0m\u001b[37m\u001b[0m \u001b[1m0s\u001b[0m 2ms/step - accuracy: 0.7873 - loss: 0.4719 - val_accuracy: 0.7681 - val_loss: 0.4931\n",
      "Epoch 188/200\n",
      "\u001b[1m153/153\u001b[0m \u001b[32m━━━━━━━━━━━━━━━━━━━━\u001b[0m\u001b[37m\u001b[0m \u001b[1m0s\u001b[0m 2ms/step - accuracy: 0.7781 - loss: 0.4868 - val_accuracy: 0.7686 - val_loss: 0.4929\n",
      "Epoch 189/200\n",
      "\u001b[1m153/153\u001b[0m \u001b[32m━━━━━━━━━━━━━━━━━━━━\u001b[0m\u001b[37m\u001b[0m \u001b[1m0s\u001b[0m 2ms/step - accuracy: 0.7793 - loss: 0.4948 - val_accuracy: 0.7681 - val_loss: 0.4930\n",
      "Epoch 190/200\n",
      "\u001b[1m153/153\u001b[0m \u001b[32m━━━━━━━━━━━━━━━━━━━━\u001b[0m\u001b[37m\u001b[0m \u001b[1m0s\u001b[0m 2ms/step - accuracy: 0.7812 - loss: 0.4897 - val_accuracy: 0.7686 - val_loss: 0.4931\n",
      "Epoch 191/200\n",
      "\u001b[1m153/153\u001b[0m \u001b[32m━━━━━━━━━━━━━━━━━━━━\u001b[0m\u001b[37m\u001b[0m \u001b[1m0s\u001b[0m 2ms/step - accuracy: 0.7805 - loss: 0.4818 - val_accuracy: 0.7681 - val_loss: 0.4931\n",
      "Epoch 192/200\n",
      "\u001b[1m153/153\u001b[0m \u001b[32m━━━━━━━━━━━━━━━━━━━━\u001b[0m\u001b[37m\u001b[0m \u001b[1m0s\u001b[0m 2ms/step - accuracy: 0.7850 - loss: 0.4806 - val_accuracy: 0.7671 - val_loss: 0.4930\n",
      "Epoch 193/200\n",
      "\u001b[1m153/153\u001b[0m \u001b[32m━━━━━━━━━━━━━━━━━━━━\u001b[0m\u001b[37m\u001b[0m \u001b[1m0s\u001b[0m 2ms/step - accuracy: 0.7844 - loss: 0.4839 - val_accuracy: 0.7695 - val_loss: 0.4929\n",
      "Epoch 194/200\n",
      "\u001b[1m153/153\u001b[0m \u001b[32m━━━━━━━━━━━━━━━━━━━━\u001b[0m\u001b[37m\u001b[0m \u001b[1m0s\u001b[0m 2ms/step - accuracy: 0.7714 - loss: 0.4944 - val_accuracy: 0.7705 - val_loss: 0.4928\n",
      "Epoch 195/200\n",
      "\u001b[1m153/153\u001b[0m \u001b[32m━━━━━━━━━━━━━━━━━━━━\u001b[0m\u001b[37m\u001b[0m \u001b[1m0s\u001b[0m 2ms/step - accuracy: 0.7895 - loss: 0.4782 - val_accuracy: 0.7686 - val_loss: 0.4929\n",
      "Epoch 196/200\n",
      "\u001b[1m153/153\u001b[0m \u001b[32m━━━━━━━━━━━━━━━━━━━━\u001b[0m\u001b[37m\u001b[0m \u001b[1m0s\u001b[0m 2ms/step - accuracy: 0.7915 - loss: 0.4706 - val_accuracy: 0.7686 - val_loss: 0.4930\n",
      "Epoch 197/200\n",
      "\u001b[1m153/153\u001b[0m \u001b[32m━━━━━━━━━━━━━━━━━━━━\u001b[0m\u001b[37m\u001b[0m \u001b[1m0s\u001b[0m 2ms/step - accuracy: 0.7865 - loss: 0.4879 - val_accuracy: 0.7686 - val_loss: 0.4929\n",
      "Epoch 198/200\n",
      "\u001b[1m153/153\u001b[0m \u001b[32m━━━━━━━━━━━━━━━━━━━━\u001b[0m\u001b[37m\u001b[0m \u001b[1m0s\u001b[0m 2ms/step - accuracy: 0.7761 - loss: 0.4881 - val_accuracy: 0.7671 - val_loss: 0.4930\n",
      "Epoch 199/200\n",
      "\u001b[1m153/153\u001b[0m \u001b[32m━━━━━━━━━━━━━━━━━━━━\u001b[0m\u001b[37m\u001b[0m \u001b[1m0s\u001b[0m 2ms/step - accuracy: 0.7944 - loss: 0.4674 - val_accuracy: 0.7667 - val_loss: 0.4930\n",
      "Epoch 200/200\n",
      "\u001b[1m153/153\u001b[0m \u001b[32m━━━━━━━━━━━━━━━━━━━━\u001b[0m\u001b[37m\u001b[0m \u001b[1m0s\u001b[0m 2ms/step - accuracy: 0.7816 - loss: 0.4835 - val_accuracy: 0.7676 - val_loss: 0.4931\n"
     ]
    },
    {
     "data": {
      "image/png": "[encoded data removed]",
      "text/plain": [
       "<Figure size 2000x1000 with 2 Axes>"
      ]
     },
     "metadata": {},
     "output_type": "display_data"
    }
   ],
   "source": [
    "\n",
    "history= model.fit(X_train,y_train,epochs=200,validation_split=0.3)\n",
    "def plotCost(history):\n",
    "    fig,ax= plt.subplots(nrows=1,ncols=2,figsize=(20,10))\n",
    "    ax[0].set_title(\"Cost\")\n",
    "    ax[0].set_xlabel(\"Epochs\")\n",
    "    ax[0].set_ylabel(\"Cost\")\n",
    "    ax[0].plot(history.history[\"loss\"],\"b-\",label=\"Jtrain\")\n",
    "    ax[0].plot(history.history[\"val_loss\"],\"r-\",label=\"JCV\")\n",
    "    ax[0].legend()\n",
    "    ax[0].grid(True)\n",
    "    ax[1].set_title(\"Accuracy\")\n",
    "    ax[1].set_xlabel(\"Epochs\")\n",
    "    ax[1].set_ylabel(\"Accuracy\")\n",
    "    ax[1].plot(history.history[\"accuracy\"],\"b-\",label=\"Train Accuracy\")\n",
    "    ax[1].plot(history.history[\"val_accuracy\"],\"r-\",label=\"CrossValidation Accuracy\")\n",
    "    ax[1].legend()\n",
    "    ax[1].grid(True)\n",
    "plotCost(history)\n",
    "    "
   ]
  },
  {
   "cell_type": "code",
   "execution_count": 40,
   "metadata": {
    "execution": {
     "iopub.execute_input": "2025-01-21T01:22:33.131804Z",
     "iopub.status.busy": "2025-01-21T01:22:33.131472Z",
     "iopub.status.idle": "2025-01-21T01:22:35.429395Z",
     "shell.execute_reply": "2025-01-21T01:22:35.428326Z",
     "shell.execute_reply.started": "2025-01-21T01:22:33.131776Z"
    },
    "trusted": true
   },
   "outputs": [
    {
     "name": "stdout",
     "output_type": "stream",
     "text": [
      "\u001b[1m55/55\u001b[0m \u001b[32m━━━━━━━━━━━━━━━━━━━━\u001b[0m\u001b[37m\u001b[0m \u001b[1m0s\u001b[0m 1ms/step - accuracy: 0.8068 - loss: 0.4794 \n",
      "[loss,accuracy]:[0.48898565769195557, 0.795859694480896]\n"
     ]
    }
   ],
   "source": [
    "\n",
    "print(f\"[loss,accuracy]:{model.evaluate(X_test,y_test)}\")\n",
    "test= pd.read_csv(r\"C:\\Users\\Admin\\Desktop\\spaceship-titanic\\test.csv\")"
   ]
  },
  {
   "cell_type": "code",
   "execution_count": 41,
   "metadata": {},
   "outputs": [
    {
     "name": "stdout",
     "output_type": "stream",
     "text": [
      "     PassengerId HomePlanet CryoSleep     Cabin    Destination   Age    VIP  \\\n",
      "4272     9266_02      Earth      True  G/1496/S    TRAPPIST-1e  34.0  False   \n",
      "4273     9269_01      Earth     False       NaN    TRAPPIST-1e  42.0  False   \n",
      "4274     9271_01       Mars      True   D/296/P    55 Cancri e   NaN  False   \n",
      "4275     9273_01     Europa     False   D/297/P            NaN   NaN  False   \n",
      "4276     9277_01      Earth      True  G/1498/S  PSO J318.5-22  43.0  False   \n",
      "\n",
      "      RoomService  FoodCourt  ShoppingMall   Spa  VRDeck              Name  \n",
      "4272          0.0        0.0           0.0   0.0     0.0       Jeron Peter  \n",
      "4273          0.0      847.0          17.0  10.0   144.0     Matty Scheron  \n",
      "4274          0.0        0.0           0.0   0.0     0.0       Jayrin Pore  \n",
      "4275          0.0     2680.0           0.0   0.0   523.0    Kitakan Conale  \n",
      "4276          0.0        0.0           0.0   0.0     0.0  Lilace Leonzaley  \n",
      "PassengerId has 0\n",
      "HomePlanet has 0\n",
      "CryoSleep has 0\n",
      "Cabin has 0\n",
      "Destination has 0\n",
      "Age has 91\n",
      "VIP has 0\n",
      "RoomService has 82\n",
      "FoodCourt has 106\n",
      "ShoppingMall has 98\n",
      "Spa has 101\n",
      "VRDeck has 80\n",
      "Name has 0\n"
     ]
    },
    {
     "name": "stderr",
     "output_type": "stream",
     "text": [
      "C:\\Users\\Admin\\AppData\\Local\\Temp\\ipykernel_9356\\1284448079.py:14: FutureWarning: A value is trying to be set on a copy of a DataFrame or Series through chained assignment using an inplace method.\n",
      "The behavior will change in pandas 3.0. This inplace method will never work because the intermediate object on which we are setting values always behaves as a copy.\n",
      "\n",
      "For example, when doing 'df[col].method(value, inplace=True)', try using 'df.method({col: value}, inplace=True)' or df[col] = df[col].method(value) instead, to perform the operation inplace on the original object.\n",
      "\n",
      "\n",
      "  test[feature].fillna(df[feature].median(skipna=True),inplace=True)\n",
      "C:\\Users\\Admin\\AppData\\Local\\Temp\\ipykernel_9356\\1284448079.py:14: FutureWarning: A value is trying to be set on a copy of a DataFrame or Series through chained assignment using an inplace method.\n",
      "The behavior will change in pandas 3.0. This inplace method will never work because the intermediate object on which we are setting values always behaves as a copy.\n",
      "\n",
      "For example, when doing 'df[col].method(value, inplace=True)', try using 'df.method({col: value}, inplace=True)' or df[col] = df[col].method(value) instead, to perform the operation inplace on the original object.\n",
      "\n",
      "\n",
      "  test[feature].fillna(df[feature].median(skipna=True),inplace=True)\n",
      "C:\\Users\\Admin\\AppData\\Local\\Temp\\ipykernel_9356\\1284448079.py:14: FutureWarning: A value is trying to be set on a copy of a DataFrame or Series through chained assignment using an inplace method.\n",
      "The behavior will change in pandas 3.0. This inplace method will never work because the intermediate object on which we are setting values always behaves as a copy.\n",
      "\n",
      "For example, when doing 'df[col].method(value, inplace=True)', try using 'df.method({col: value}, inplace=True)' or df[col] = df[col].method(value) instead, to perform the operation inplace on the original object.\n",
      "\n",
      "\n",
      "  test[feature].fillna(df[feature].median(skipna=True),inplace=True)\n",
      "C:\\Users\\Admin\\AppData\\Local\\Temp\\ipykernel_9356\\1284448079.py:14: FutureWarning: A value is trying to be set on a copy of a DataFrame or Series through chained assignment using an inplace method.\n",
      "The behavior will change in pandas 3.0. This inplace method will never work because the intermediate object on which we are setting values always behaves as a copy.\n",
      "\n",
      "For example, when doing 'df[col].method(value, inplace=True)', try using 'df.method({col: value}, inplace=True)' or df[col] = df[col].method(value) instead, to perform the operation inplace on the original object.\n",
      "\n",
      "\n",
      "  test[feature].fillna(df[feature].median(skipna=True),inplace=True)\n",
      "C:\\Users\\Admin\\AppData\\Local\\Temp\\ipykernel_9356\\1284448079.py:14: FutureWarning: A value is trying to be set on a copy of a DataFrame or Series through chained assignment using an inplace method.\n",
      "The behavior will change in pandas 3.0. This inplace method will never work because the intermediate object on which we are setting values always behaves as a copy.\n",
      "\n",
      "For example, when doing 'df[col].method(value, inplace=True)', try using 'df.method({col: value}, inplace=True)' or df[col] = df[col].method(value) instead, to perform the operation inplace on the original object.\n",
      "\n",
      "\n",
      "  test[feature].fillna(df[feature].median(skipna=True),inplace=True)\n",
      "C:\\Users\\Admin\\AppData\\Local\\Temp\\ipykernel_9356\\1284448079.py:14: FutureWarning: A value is trying to be set on a copy of a DataFrame or Series through chained assignment using an inplace method.\n",
      "The behavior will change in pandas 3.0. This inplace method will never work because the intermediate object on which we are setting values always behaves as a copy.\n",
      "\n",
      "For example, when doing 'df[col].method(value, inplace=True)', try using 'df.method({col: value}, inplace=True)' or df[col] = df[col].method(value) instead, to perform the operation inplace on the original object.\n",
      "\n",
      "\n",
      "  test[feature].fillna(df[feature].median(skipna=True),inplace=True)\n"
     ]
    }
   ],
   "source": [
    "\n",
    "print(test.tail())\n",
    "Ids= test[\"PassengerId\"]\n",
    "CATEGORICAL.remove(\"Transported\")\n",
    "for feature in CATEGORICAL:\n",
    "    unique_values= list(test[feature].unique())\n",
    "    mapped= []\n",
    "    for value in test[feature]:\n",
    "        mapped.append(unique_values.index(value))\n",
    "    test[feature]= mapped\n",
    "for feature in test.columns:\n",
    "    print(f\"{feature} has {test[feature].isnull().sum()}\")\n",
    "corrupt_features=[\"Age\",\"RoomService\",\"ShoppingMall\",\"FoodCourt\",\"Spa\",\"VRDeck\"]\n",
    "for feature in corrupt_features:\n",
    "    test[feature].fillna(df[feature].median(skipna=True),inplace=True)\n",
    "test= np.array(test)"
   ]
  },
  {
   "cell_type": "code",
   "execution_count": 42,
   "metadata": {},
   "outputs": [
    {
     "name": "stdout",
     "output_type": "stream",
     "text": [
      "The range of values for Test data features is [ 1.70672144  4.07933462  3.71049844  1.68959784  3.37846814  5.49623916\n",
      "  5.89536947 17.85357154 15.77060976 14.46667424 18.36715922 18.94196725\n",
      "  1.67461714]\n"
     ]
    }
   ],
   "source": [
    "test= scaler.transform(test)\n",
    "print(f\"The range of values for Test data features is {np.ptp(test,axis=0)}\")"
   ]
  },
  {
   "cell_type": "code",
   "execution_count": 43,
   "metadata": {},
   "outputs": [
    {
     "name": "stdout",
     "output_type": "stream",
     "text": [
      "\u001b[1m55/55\u001b[0m \u001b[32m━━━━━━━━━━━━━━━━━━━━\u001b[0m\u001b[37m\u001b[0m \u001b[1m0s\u001b[0m 992us/step\n"
     ]
    }
   ],
   "source": [
    "\n",
    "y_hat= model.predict(X_test)\n",
    "nd_y_test= np.array(y_test)"
   ]
  },
  {
   "cell_type": "code",
   "execution_count": 44,
   "metadata": {},
   "outputs": [
    {
     "name": "stdout",
     "output_type": "stream",
     "text": [
      "\u001b[1m55/55\u001b[0m \u001b[32m━━━━━━━━━━━━━━━━━━━━\u001b[0m\u001b[37m\u001b[0m \u001b[1m0s\u001b[0m 866us/step\n"
     ]
    }
   ],
   "source": [
    "\n",
    "y_hat= model.predict(X_test)\n",
    "nd_y_test= np.array(y_test)"
   ]
  },
  {
   "cell_type": "code",
   "execution_count": 45,
   "metadata": {},
   "outputs": [
    {
     "name": "stdout",
     "output_type": "stream",
     "text": [
      "{'precision': 0.7789473684210526, 'recall': 0.8361581920903954, 'confusion matrix':                      NegativeClass  PositiveClass\n",
      "NegativePrediction             644            145\n",
      "PositivePredictions            210            740, 'f1_score': np.float64(0.8065395095367847)}\n"
     ]
    }
   ],
   "source": [
    "\n",
    "def confusion_matrix(thresh_val,y_hat):\n",
    "    true_pos=0\n",
    "    true_neg=0\n",
    "    false_pos=0\n",
    "    false_neg= 0\n",
    "    for i in range(len(y_hat)):\n",
    "        if (y_hat[i]>= thresh_val)&(nd_y_test[i]==1):\n",
    "            true_pos+=1\n",
    "        elif (y_hat[i]< thresh_val)&(nd_y_test[i]==0):\n",
    "            true_neg+=1\n",
    "        elif (y_hat[i]>= thresh_val)&(nd_y_test[i]==0):\n",
    "            false_pos+=1\n",
    "        elif (y_hat[i]< thresh_val)&(nd_y_test[i]==1):\n",
    "            false_neg+=1\n",
    "    precision= true_pos/(true_pos+false_pos)\n",
    "    recall= true_pos/(true_pos+false_neg)\n",
    "    matrix=np.array([[true_neg,false_neg],[false_pos,true_pos]])\n",
    "    f1_score= 2/np.sum([1/precision,1/recall])\n",
    "    matrix= pd.DataFrame(matrix,columns=[\"NegativeClass\",\"PositiveClass\"],index=[\"NegativePrediction\",\"PositivePredictions\"])\n",
    "    return {\"precision\":precision,\"recall\":recall,\"confusion matrix\":matrix,\"f1_score\":f1_score}\n",
    "prec_recall_f1score=confusion_matrix(thresh_val=0.5,y_hat=y_hat)\n",
    "print(prec_recall_f1score)"
   ]
  },
  {
   "cell_type": "code",
   "execution_count": 46,
   "metadata": {},
   "outputs": [
    {
     "name": "stdout",
     "output_type": "stream",
     "text": [
      "recall number:20,prec number:20,f1 number:20\n"
     ]
    },
    {
     "data": {
      "image/png": "[encoded data removed]",
      "text/plain": [
       "<Figure size 1000x600 with 2 Axes>"
      ]
     },
     "metadata": {},
     "output_type": "display_data"
    },
    {
     "name": "stdout",
     "output_type": "stream",
     "text": [
      "Optimum Threshold Value:0.39473684210526316\n",
      "Max F1 SCORE:0.8044466902475997\n",
      "Precision:0.7276051188299817\n",
      "Recall:0.8994350282485876\n",
      "\u001b[1m134/134\u001b[0m \u001b[32m━━━━━━━━━━━━━━━━━━━━\u001b[0m\u001b[37m\u001b[0m \u001b[1m0s\u001b[0m 2ms/step\n",
      "Number of nan values:0\n"
     ]
    }
   ],
   "source": [
    "\n",
    "thresh_values= np.linspace(0.1,0.9,20)\n",
    "f1_scores= []\n",
    "precision_scores= []\n",
    "recall_scores=[]\n",
    "for i in range(len(thresh_values)):\n",
    "    f1_scores.append(confusion_matrix(thresh_values[i],y_hat=y_hat)[\"f1_score\"])\n",
    "    precision_scores.append(confusion_matrix(thresh_values[i],y_hat=y_hat)[\"precision\"])\n",
    "    recall_scores.append(confusion_matrix(thresh_values[i],y_hat=y_hat)[\"recall\"])\n",
    "def plot_precision_recall_f1_score():\n",
    "    fig,ax= plt.subplots(1,2,figsize=(10,6))\n",
    "    ax[0].set_title(\"Threshold Value VS F1 Score\")\n",
    "    ax[0].set_ylabel(\"F1 SCORE\")\n",
    "    ax[0].set_xlabel(\"Threshold Value\")\n",
    "    ax[0].plot(thresh_values,f1_scores,\"r-\")\n",
    "    ax[0].grid(True)\n",
    "    ax[1].set_title(\"Recall VS Precision\")\n",
    "    ax[1].set_ylabel(\"Precision\")\n",
    "    ax[1].set_xlabel(\"Recall\")\n",
    "    ax[1].plot(recall_scores,precision_scores,\"g-\")\n",
    "    ax[1].grid(True)\n",
    "    plt.show()\n",
    "print(f\"recall number:{len(recall_scores)},prec number:{len(precision_scores)},f1 number:{len(f1_scores)}\")\n",
    "plot_precision_recall_f1_score()\n",
    "f1_scores= np.array(f1_scores)\n",
    "f1_scores_max= f1_scores.max()\n",
    "thresh_values_optimum= thresh_values[list(f1_scores).index(f1_scores_max)]\n",
    "prec_optimum= precision_scores[list(f1_scores).index(f1_scores_max)]\n",
    "recall_optimum= recall_scores[list(f1_scores).index(f1_scores_max)]\n",
    "print(f\"Optimum Threshold Value:{thresh_values_optimum}\\nMax F1 SCORE:{f1_scores_max}\\nPrecision:{prec_optimum}\\nRecall:{recall_optimum}\")\n",
    "Test_y_hat= model.predict(test)\n",
    "transported=[]\n",
    "print(f\"Number of nan values:{np.isnan(Test_y_hat).sum()}\")\n",
    "for i in range(len(Test_y_hat)):\n",
    "    if Test_y_hat[i]>= thresh_values_optimum:\n",
    "        transported.append(\"True\")\n",
    "    else:\n",
    "        transported.append(\"False\")\n",
    "\n"
   ]
  },
  {
   "cell_type": "code",
   "execution_count": 47,
   "metadata": {},
   "outputs": [
    {
     "name": "stdout",
     "output_type": "stream",
     "text": [
      "     PassengerID Transported\n",
      "0        0013_01        True\n",
      "1        0018_01       False\n",
      "2        0019_01        True\n",
      "3        0021_01        True\n",
      "4        0023_01        True\n",
      "...          ...         ...\n",
      "4272     9266_02        True\n",
      "4273     9269_01        True\n",
      "4274     9271_01        True\n",
      "4275     9273_01        True\n",
      "4276     9277_01        True\n",
      "\n",
      "[4277 rows x 2 columns]\n"
     ]
    }
   ],
   "source": [
    "my_submission= {\"PassengerID\":list(Ids),\"Transported\":transported}\n",
    "my_submission= pd.DataFrame(my_submission)\n",
    "print(my_submission)\n",
    "my_submission.to_csv(\"submission.csv\",index=False)"
   ]
  }
 ],
 "metadata": {
  "kaggle": {
   "accelerator": "none",
   "dataSources": [
    {
     "databundleVersionId": 3220602,
     "sourceId": 34377,
     "sourceType": "competition"
    }
   ],
   "dockerImageVersionId": 30839,
   "isGpuEnabled": false,
   "isInternetEnabled": false,
   "language": "python",
   "sourceType": "notebook"
  },
  "kernelspec": {
   "display_name": "Python 3",
   "language": "python",
   "name": "python3"
  },
  "language_info": {
   "codemirror_mode": {
    "name": "ipython",
    "version": 3
   },
   "file_extension": ".py",
   "mimetype": "text/x-python",
   "name": "python",
   "nbconvert_exporter": "python",
   "pygments_lexer": "ipython3",
   "version": "3.10.0"
  }
 },
 "nbformat": 4,
 "nbformat_minor": 4
}
