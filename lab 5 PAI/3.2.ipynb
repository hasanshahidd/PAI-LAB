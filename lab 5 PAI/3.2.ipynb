{
 "cells": [
  {
   "cell_type": "code",
   "execution_count": null,
   "metadata": {},
   "outputs": [
    {
     "name": "stdout",
     "output_type": "stream",
     "text": [
      "Video done\n"
     ]
    }
   ],
   "source": [
    "import cv2\n",
    "import os\n",
    "folder = r\"C:\\Users\\Admin\\Pictures\\new wallpapers\"\n",
    "images = sorted(os.listdir(folder))\n",
    "images = [img for img in images if img.endswith(('.jpg', '.png'))]  \n",
    "frame = cv2.imread(f\"{folder}/{images[0]}\")\n",
    "h, w, _ = frame.shape\n",
    "video = cv2.VideoWriter(\"output.mp4\", cv2.VideoWriter_fourcc(*'mp4v'), 10, (w, h))  \n",
    "for img in images:\n",
    "    frame = cv2.imread(f\"{folder}/{img}\")\n",
    "    video.write(frame)\n",
    "video.release()\n",
    "print(\"Video done\")\n"
   ]
  },
  {
   "cell_type": "code",
   "execution_count": null,
   "metadata": {},
   "outputs": [
    {
     "name": "stdout",
     "output_type": "stream",
     "text": [
      "Extracting frame 0\n",
      "Extracting frame 1\n",
      "Extracting frame 2\n",
      "Extracting frame 3\n",
      "Extracting frame 4\n",
      "Extracting frame 5\n",
      "Extracting frame 6\n",
      "Extracting frame 7\n",
      "Extracting frame 8\n",
      "✅ 9 frames extracted.\n"
     ]
    }
   ],
   "source": [
    "import cv2\n",
    "import os\n",
    "video_path = r\"C:\\Users\\Admin\\Desktop\\lab 5 PAI\\output.mp4\" \n",
    "output_folder = \"data\"  \n",
    "os.makedirs(output_folder, exist_ok=True)  \n",
    "cam = cv2.VideoCapture(video_path)\n",
    "currentframe = 0\n",
    "while cam.isOpened():\n",
    "    ret, frame = cam.read()\n",
    "    if not ret:\n",
    "        break\n",
    "    cv2.imwrite(f\"{output_folder}/frame_{currentframe}.jpg\", frame)  \n",
    "    print(f\"Extracting frame {currentframe}\")\n",
    "    currentframe += 1\n",
    "cam.release()\n",
    "cv2.destroyAllWindows()\n",
    "print(f\"✅ {currentframe} frames extracted.\")\n"
   ]
  }
 ],
 "metadata": {
  "kernelspec": {
   "display_name": "Python 3",
   "language": "python",
   "name": "python3"
  },
  "language_info": {
   "codemirror_mode": {
    "name": "ipython",
    "version": 3
   },
   "file_extension": ".py",
   "mimetype": "text/x-python",
   "name": "python",
   "nbconvert_exporter": "python",
   "pygments_lexer": "ipython3",
   "version": "3.10.0"
  }
 },
 "nbformat": 4,
 "nbformat_minor": 2
}
