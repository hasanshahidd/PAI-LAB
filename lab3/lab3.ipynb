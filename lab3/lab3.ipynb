{
 "cells": [
  {
   "cell_type": "code",
   "execution_count": null,
   "metadata": {},
   "outputs": [
    {
     "name": "stdout",
     "output_type": "stream",
     "text": [
      "Current state: Jug1 = 0, Jug2 = 0\n",
      "Applying move: Jug1 = 4, Jug2 = 0\n",
      "Applying move: Jug1 = 0, Jug2 = 3\n",
      "Current state: Jug1 = 0, Jug2 = 3\n",
      "Applying move: Jug1 = 4, Jug2 = 3\n",
      "Applying move: Jug1 = 3, Jug2 = 0\n",
      "Current state: Jug1 = 3, Jug2 = 0\n",
      "Applying move: Jug1 = 3, Jug2 = 3\n",
      "Current state: Jug1 = 3, Jug2 = 3\n",
      "Applying move: Jug1 = 4, Jug2 = 2\n",
      "Current state: Jug1 = 4, Jug2 = 2\n",
      "Solution found!\n"
     ]
    },
    {
     "data": {
      "text/plain": [
       "True"
      ]
     },
     "execution_count": 1,
     "metadata": {},
     "output_type": "execute_result"
    }
   ],
   "source": [
    "#stack\n",
    "from collections import deque\n",
    "\n",
    "def waterjugproblem(c1, c2, goal):\n",
    "    stack = []\n",
    "    visited = set()\n",
    "    stack.append((0, 0))\n",
    "    visited.add((0, 0))\n",
    "    while stack:\n",
    "        jug1, jug2 = stack.pop()\n",
    "        print(f\"Current state: Jug1 = {jug1}, Jug2 = {jug2}\")\n",
    "        if jug1 == goal or jug2 == goal:\n",
    "            print(\"Solution found\")\n",
    "            return True\n",
    "        possible_moves = [\n",
    "            (c1, jug2),\n",
    "            (jug1, c2),\n",
    "            (0, jug2),\n",
    "            (jug1, 0),\n",
    "            (jug1 - min(jug1, c2 - jug2), jug2 + min(jug1, c2 - jug2)),\n",
    "            (jug1 + min(jug2, c1 - jug1), jug2 - min(jug2, c1 - jug1))\n",
    "        ]\n",
    "        for new_jug1, new_jug2 in possible_moves:\n",
    "            if (new_jug1, new_jug2) not in visited:\n",
    "                print(f\"Apply move: Jug1 = {new_jug1}, Jug2 = {new_jug2}\")\n",
    "                stack.append((new_jug1, new_jug2))\n",
    "                visited.add((new_jug1, new_jug2))\n",
    "    print(\"Nothing found.\")\n",
    "    return False\n",
    "jug1_capacity = 4\n",
    "jug2_capacity = 3\n",
    "goal = 2\n",
    "waterjugproblem(jug1_capacity, jug2_capacity, goal)\n"
   ]
  },
  {
   "cell_type": "code",
   "execution_count": null,
   "metadata": {},
   "outputs": [
    {
     "name": "stdout",
     "output_type": "stream",
     "text": [
      "Currently: Jug1 = 0, Jug2 = 0\n",
      "Applymove: Jug1 = 4, Jug2 = 0\n",
      "Applymove: Jug1 = 0, Jug2 = 3\n",
      "Currently: Jug1 = 4, Jug2 = 0\n",
      "Applymove: Jug1 = 4, Jug2 = 3\n",
      "Applymove: Jug1 = 1, Jug2 = 3\n",
      "Currently: Jug1 = 0, Jug2 = 3\n",
      "Applymove: Jug1 = 3, Jug2 = 0\n",
      "Currently: Jug1 = 4, Jug2 = 3\n",
      "Currently: Jug1 = 1, Jug2 = 3\n",
      "Applymove: Jug1 = 1, Jug2 = 0\n",
      "Currently: Jug1 = 3, Jug2 = 0\n",
      "Applymove: Jug1 = 3, Jug2 = 3\n",
      "Currently: Jug1 = 1, Jug2 = 0\n",
      "Applymove: Jug1 = 0, Jug2 = 1\n",
      "Currently: Jug1 = 3, Jug2 = 3\n",
      "Applymove: Jug1 = 4, Jug2 = 2\n",
      "Currently: Jug1 = 0, Jug2 = 1\n",
      "Applymove: Jug1 = 4, Jug2 = 1\n",
      "Currently: Jug1 = 4, Jug2 = 2\n",
      "Solution found\n"
     ]
    },
    {
     "data": {
      "text/plain": [
       "True"
      ]
     },
     "execution_count": 1,
     "metadata": {},
     "output_type": "execute_result"
    }
   ],
   "source": [
    "#queue\n",
    "from collections import deque\n",
    "def waterjugproblem(c1, c2, goal):\n",
    "    queue = deque()\n",
    "    visited = set()\n",
    "    queue.append((0, 0))\n",
    "    visited.add((0, 0))\n",
    "    while queue:\n",
    "        jug1, jug2 = queue.popleft()\n",
    "        print(f\"Currently: Jug1 = {jug1}, Jug2 = {jug2}\")\n",
    "        if jug1 == goal or jug2 == goal:\n",
    "            print(\"Solution found\")\n",
    "            return True\n",
    "        possible_moves = [\n",
    "            (c1, jug2),\n",
    "            (jug1, c2),\n",
    "            (0, jug2),\n",
    "            (jug1, 0),\n",
    "            (jug1 - min(jug1, c2 - jug2), jug2 + min(jug1, c2 - jug2)),\n",
    "            (jug1 + min(jug2, c1 - jug1), jug2 - min(jug2, c1 - jug1))\n",
    "        ]\n",
    "        for new_jug1, new_jug2 in possible_moves:\n",
    "            if (new_jug1, new_jug2) not in visited:\n",
    "                print(f\"Applymove: Jug1 = {new_jug1}, Jug2 = {new_jug2}\")\n",
    "                queue.append((new_jug1, new_jug2))\n",
    "                visited.add((new_jug1, new_jug2))\n",
    "    print(\"Nothing found.\")\n",
    "    return False\n",
    "jug1_capacity = 4\n",
    "jug2_capacity = 3\n",
    "goal = 2\n",
    "waterjugproblem(jug1_capacity, jug2_capacity, goal)\n"
   ]
  }
 ],
 "metadata": {
  "kernelspec": {
   "display_name": "Python 3",
   "language": "python",
   "name": "python3"
  },
  "language_info": {
   "codemirror_mode": {
    "name": "ipython",
    "version": 3
   },
   "file_extension": ".py",
   "mimetype": "text/x-python",
   "name": "python",
   "nbconvert_exporter": "python",
   "pygments_lexer": "ipython3",
   "version": "3.10.0"
  }
 },
 "nbformat": 4,
 "nbformat_minor": 2
}
